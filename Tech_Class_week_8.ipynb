{
  "nbformat": 4,
  "nbformat_minor": 0,
  "metadata": {
    "colab": {
      "provenance": [],
      "authorship_tag": "ABX9TyPFzU9cjB+yCd6ENzCsmog6",
      "include_colab_link": true
    },
    "kernelspec": {
      "name": "python3",
      "display_name": "Python 3"
    },
    "language_info": {
      "name": "python"
    }
  },
  "cells": [
    {
      "cell_type": "markdown",
      "metadata": {
        "id": "view-in-github",
        "colab_type": "text"
      },
      "source": [
        "<a href=\"https://colab.research.google.com/github/Stephen-Data-Engineer-Public/BASIC-PYTHON-PROJECT/blob/main/Tech_Class_week_8.ipynb\" target=\"_parent\"><img src=\"https://colab.research.google.com/assets/colab-badge.svg\" alt=\"Open In Colab\"/></a>"
      ]
    },
    {
      "cell_type": "markdown",
      "source": [
        "# **User Input**"
      ],
      "metadata": {
        "id": "DcQBO-FgOTwp"
      }
    },
    {
      "cell_type": "markdown",
      "source": [
        "The **`input()`** function pauses your program and waits for the user to enter some text. Once python receives  the user's input, it assigns that input to a variable to make it convenient for you to work with."
      ],
      "metadata": {
        "id": "61gfyAffOiA3"
      }
    },
    {
      "cell_type": "code",
      "source": [
        "message = input(\"Tell me something, and I will repeat it back to you :\")\n",
        "print(message) #You can see that the variable message is assigned the value of what you inputted and not the text inside the `input()`.  Now we can use the user input to do something. E.g.,\n",
        "\n",
        "name = input(\"Tell me your name :\")\n",
        "print(f\"\\nHello, {name} you no well!\")"
      ],
      "metadata": {
        "id": "dzu6l83wOaJw"
      },
      "execution_count": null,
      "outputs": []
    },
    {
      "cell_type": "markdown",
      "source": [
        "# **Loops**"
      ],
      "metadata": {
        "id": "wkGatU_qPUro"
      }
    },
    {
      "cell_type": "markdown",
      "source": [
        "We have the **`for`** loop and the **`while`** loop. The `for` loop takes a collection of items and executes a block of code once for each item in the collection. In contrast, the `while` loop runs as long as a certain condition is true."
      ],
      "metadata": {
        "id": "Ibo5ThFlPZ3_"
      }
    },
    {
      "cell_type": "code",
      "source": [
        "for i in range(10):\n",
        "  print(i, end=' ') # The end=' ' tells the `print()` to return the result in a single line separated by a space. most likely, you will use the loop inside a function."
      ],
      "metadata": {
        "colab": {
          "base_uri": "https://localhost:8080/"
        },
        "id": "Fz44SUEkPhuA",
        "outputId": "53504362-2f30-4b10-90a4-cddeb14a7ead"
      },
      "execution_count": null,
      "outputs": [
        {
          "output_type": "stream",
          "name": "stdout",
          "text": [
            "0 1 2 3 4 5 6 7 8 9 "
          ]
        }
      ]
    },
    {
      "cell_type": "markdown",
      "source": [
        "## **The for Loop**\n",
        "---\n",
        "\n",
        "#### ✅ **When to Use a `for` Loop in Python**\n",
        "\n",
        "Use a `for` loop when you:\n",
        "\n",
        "* Want to **iterate over a sequence** (like a list, string, or tuple).\n",
        "* Know ahead of time **how many times** you need to repeat an action.\n",
        "* Are processing items in a collection.\n",
        "\n",
        "---\n",
        "\n",
        "#### 🔼 **Incremental Count: `for i in range(start, stop)`**\n",
        "\n",
        "##### 🔹 Use Case 1: Loop a fixed number of times\n",
        "\n",
        "```python\n",
        "for i in range(5):\n",
        "    print(\"Hello!\")\n",
        "```\n",
        "\n",
        "📌 **Scenario**: You want to print something 5 times (from 0 to 4).\n",
        "\n",
        "---\n",
        "\n",
        "##### 🔹 Use Case 2: Go from 1 to N (like summing first 100 numbers)\n",
        "\n",
        "```python\n",
        "total = 0\n",
        "for i in range(1, 101):\n",
        "    total += i\n",
        "```\n",
        "\n",
        "📌 **Scenario**: Summing numbers from 1 to 100.\n",
        "\n",
        "---\n",
        "\n",
        "##### 🔹 Use Case 3: Iterating through list indices\n",
        "\n",
        "```python\n",
        "names = [\"Alice\", \"Bob\", \"Charlie\"]\n",
        "for i in range(len(names)):\n",
        "    print(f\"Person {i + 1}: {names[i]}\")\n",
        "```\n",
        "\n",
        "📌 **Scenario**: You need both the index and the value from a list.\n",
        "\n",
        "---\n",
        "\n",
        "#### 🔽 **Decreasing Count: `for i in range(start, stop, step)` with a negative step**\n",
        "\n",
        "##### 🔹 Use Case 4: Countdown timer\n",
        "\n",
        "```python\n",
        "for i in range(10, 0, -1):\n",
        "    print(i)\n",
        "print(\"Blast off!\")\n",
        "```\n",
        "\n",
        "📌 **Scenario**: Simulating a countdown (e.g., rocket launch).\n",
        "\n",
        "---\n",
        "\n",
        "##### 🔹 Use Case 5: Reverse iteration over indices\n",
        "\n",
        "```python\n",
        "items = [\"apple\", \"banana\", \"cherry\"]\n",
        "for i in range(len(items) - 1, -1, -1):\n",
        "    print(items[i])\n",
        "```\n",
        "\n",
        "📌 **Scenario**: Looping through a list in reverse order.\n",
        "\n",
        "---\n",
        "\n",
        "##### 🔹 Use Case 6: Removing items from a list safely (from end to start)\n",
        "\n",
        "```python\n",
        "my_list = [1, 2, 3, 4, 5]\n",
        "for i in range(len(my_list) - 1, -1, -1):\n",
        "    if my_list[i] % 2 == 0:\n",
        "        del my_list[i]\n",
        "```\n",
        "\n",
        "📌 **Scenario**: Removing items while avoiding index shifting issues.\n",
        "\n",
        "---\n",
        "\n",
        "##### Summary Table\n",
        "\n",
        "| Loop Type              | Syntax Example              | Typical Use Case                    |\n",
        "| ---------------------- | --------------------------- | ----------------------------------- |\n",
        "| Incremental            | `for i in range(5)`         | Repeating something N times         |\n",
        "| Incremental with range | `for i in range(1, 11)`     | Counting 1 to 10, summing numbers   |\n",
        "| Decreasing             | `for i in range(10, 0, -1)` | Countdown, reverse order operations |\n",
        "| Iterating by index     | `for i in range(len(list))` | Access items and their positions    |\n",
        "\n",
        "---\n",
        "\n"
      ],
      "metadata": {
        "id": "IG3An0TEP991"
      }
    },
    {
      "cell_type": "markdown",
      "source": [
        "## **The while loop**"
      ],
      "metadata": {
        "id": "guss7cYhPs1s"
      }
    },
    {
      "cell_type": "markdown",
      "source": [
        "```python\n",
        "current_number = 1\n",
        "while current_number <= 10:\n",
        "    print(current_number)\n",
        "    current_number += 1\n",
        "```\n",
        "\n",
        "In the first line, we start counting from 1 by assigning current_number the value 1. The while loop is then set to keep running as long as the value of current_number is less than or equal to 10. The code inside the loop prints the value of current_number and then adds 1 to that value with current_number += 1. (The += operator is shorthand for current_number = current_number + 1.)\n",
        "\n",
        "\n",
        "## Letting the User Choose when to Quit\n",
        "\n",
        "We’ll define a quit value and then keep the program running as long as the user has not entered the quit value:\n",
        "\n",
        "```python\n",
        "prompt = \"\\nTell me something, and I will repeat it back to you:\"\n",
        "prompt += \"\\nEnter 'quit' to end the program. \"\n",
        "\n",
        "message = \"\"\n",
        "while message != 'quit':\n",
        "    message = input(prompt)\n",
        "    print(message)\n",
        "```\n",
        "\n",
        "## Using a Flag\n",
        "\n",
        "For a program that should run only as long as many conditions are true, you can define one variable that determines whether or not the entire program is active. This variable, called a flag, acts as a signal to the program. We can write our programs so they run while the flag is set to True and stop running when any of several events sets the value of the flag to False. As a result, our overall while statement needs to check only one condition: whether the flag is currently True. Then, all our other tests (to see if an event has occurred that should set the flag to False) can be neatly organized in the rest of the program.\n",
        "\n",
        "```python\n",
        "prompt = \"\\nTell me something, and I will repeat it back to you:\"\n",
        "prompt += \"\\nEnter 'quit' to end the program. \"\n",
        "\n",
        "active = True\n",
        "while active:\n",
        "    message = input(prompt)\n",
        "\n",
        "    if message == 'quit':\n",
        "        active = False\n",
        "    else:\n",
        "        print(message)\n",
        "\n",
        "```\n",
        "## Using break to Exit a Loop\n",
        "To exit a while loop immediately without running any remaining code in the loop, regardless of the results of any conditional test, use the break statement. The break statement directs the flow of your program; you can use it to control which lines of code are executed and which aren’t, so the program only executes code that you want it to, when you want it to.\n",
        "\n",
        "For example, consider a program that asks the user about places they’ve visited. We can stop the while loop in this program by calling break as soon as the user enters the 'quit' value:\n",
        "\n",
        "```python\n",
        "prompt = \"\\nPlease enter the name of a city you have visited:\"\n",
        "prompt += \"\\n(Enter 'quit' when you are finished.) \"\n",
        "\n",
        "while True:\n",
        "    city = input(prompt)\n",
        "\n",
        "    if city == 'quit':\n",
        "        break\n",
        "    else:\n",
        "        print(f\"I'd love to go to {city.title()}!\")\n",
        "```\n",
        "\n",
        "## Using continue in a Loop\n",
        "Rather than breaking out of a loop entirely without executing the rest of its code, you can use the continue statement to return to the beginning of the loop, based on the result of a conditional test. For example, consider a loop that counts from 1 to 10 but prints only the odd numbers in that range. First, we set current_number to 0. Because it’s less than 10, Python enters the while loop. Once inside the loop, we increment the count by 1 , so current_number is 1. The if statement then checks the modulo of current_number and 2. If the modulo is 0 (which means current_number is divisible by 2), the continue statement tells Python to ignore the rest of the loop and return to the beginning. If the current number is not divisible by 2, the rest of the loop is executed and Python prints the current number:\n",
        "\n",
        "```python\n",
        "current_number = 0\n",
        "while current_number < 10:\n",
        "    current_number += 1\n",
        "    if current_number % 2 == 0:\n",
        "        continue\n",
        "\n",
        "    print(current_number)\n",
        "\n",
        "```\n",
        "\n",
        "---\n",
        "\n",
        "\n",
        "## 🔍 Key Differences between for loop and while loop\n",
        "\n",
        "| Feature            | `for` Loop                              | `while` Loop                                   |\n",
        "| ------------------ | --------------------------------------- | ---------------------------------------------- |\n",
        "| **Iteration Type** | Iterates over a known sequence or range | Repeats as long as a condition is true         |\n",
        "| **Control**        | Python handles iteration                | You must control the loop variable             |\n",
        "| **Use Case**       | When the number of iterations is known  | When you need flexible or unknown-length loops |\n",
        "| **Risk**           | Less risk of infinite loop              | Higher risk if condition never becomes false   |\n",
        "\n",
        "---\n",
        "\n",
        "## 🧠 Summary\n",
        "\n",
        "* Use **`for`** when looping over items in a collection or a known range.\n",
        "* Use **`while`** when looping based on a condition that may depend on something dynamic or external.\n",
        "\n"
      ],
      "metadata": {
        "id": "X-pDMqfQP3b3"
      }
    },
    {
      "cell_type": "markdown",
      "source": [
        "# **Pandas Continuation**"
      ],
      "metadata": {
        "id": "eZnT64cmTYeX"
      }
    },
    {
      "cell_type": "markdown",
      "source": [
        "### **Series**\n",
        "A Series is a one-dimensional array-like object(array means a collection or list of values) containing a sequence of values (of similar types to NumPy types) of the same type and an associated array of data labels, called its index."
      ],
      "metadata": {
        "id": "FEoW2dEVTlyl"
      }
    },
    {
      "cell_type": "code",
      "source": [
        "import pandas as pd\n",
        "s = pd.Series( data=[\"banana\", 42],\n",
        "              index=[\"fruit\", \"numbers\"],)\n",
        "\n",
        "#print(s)\n",
        "\n",
        "\"numbers\" in s"
      ],
      "metadata": {
        "colab": {
          "base_uri": "https://localhost:8080/"
        },
        "id": "Qov6En5jTvGc",
        "outputId": "9c361fd4-748d-4320-9bbc-ebb67488b3fc"
      },
      "execution_count": 5,
      "outputs": [
        {
          "output_type": "execute_result",
          "data": {
            "text/plain": [
              "True"
            ]
          },
          "metadata": {},
          "execution_count": 5
        }
      ]
    },
    {
      "cell_type": "code",
      "source": [
        "sdata = {\"Ohio\": 35000, \"Texas\": 71000, \"Oregon\": 16000, \"Utah\": 5000}\n",
        "obj3 = pd.Series(sdata)\n",
        "obj3.index"
      ],
      "metadata": {
        "colab": {
          "base_uri": "https://localhost:8080/"
        },
        "id": "32ZtkmYfe0dM",
        "outputId": "5ae9eaf6-1380-4f10-dfe8-699ba7c1e921"
      },
      "execution_count": 9,
      "outputs": [
        {
          "output_type": "execute_result",
          "data": {
            "text/plain": [
              "Index(['Ohio', 'Texas', 'Oregon', 'Utah'], dtype='object')"
            ]
          },
          "metadata": {},
          "execution_count": 9
        }
      ]
    },
    {
      "cell_type": "code",
      "source": [
        "Scientists = pd.DataFrame( data=\n",
        " {\n",
        "     \"Occupation\":[\"Chemist\", \"Statistician\"],\n",
        "     \"Born\": [\"1920-07-25\", \"1876-06-12\"],\n",
        "     \"Died\": [\"1958-04-16\", \"1937-10-16\"],\n",
        "     \"Age\":  [37, 61],\n",
        "  }, index = range(2),\n",
        "    columns=[\"Occupation\", \"Born\", \"Died\", \"Age\"],)\n",
        "\n",
        "\n",
        "Scientists.array"
      ],
      "metadata": {
        "colab": {
          "base_uri": "https://localhost:8080/",
          "height": 297
        },
        "id": "95h2cCyOUAAS",
        "outputId": "4ea50f13-e090-4819-e82e-25a23b12f323"
      },
      "execution_count": 3,
      "outputs": [
        {
          "output_type": "error",
          "ename": "AttributeError",
          "evalue": "'DataFrame' object has no attribute 'array'",
          "traceback": [
            "\u001b[0;31m---------------------------------------------------------------------------\u001b[0m",
            "\u001b[0;31mAttributeError\u001b[0m                            Traceback (most recent call last)",
            "\u001b[0;32m<ipython-input-3-fa2178322c2c>\u001b[0m in \u001b[0;36m<cell line: 0>\u001b[0;34m()\u001b[0m\n\u001b[1;32m      9\u001b[0m \u001b[0;34m\u001b[0m\u001b[0m\n\u001b[1;32m     10\u001b[0m \u001b[0;34m\u001b[0m\u001b[0m\n\u001b[0;32m---> 11\u001b[0;31m \u001b[0mScientists\u001b[0m\u001b[0;34m.\u001b[0m\u001b[0marray\u001b[0m\u001b[0;34m\u001b[0m\u001b[0;34m\u001b[0m\u001b[0m\n\u001b[0m",
            "\u001b[0;32m/usr/local/lib/python3.11/dist-packages/pandas/core/generic.py\u001b[0m in \u001b[0;36m__getattr__\u001b[0;34m(self, name)\u001b[0m\n\u001b[1;32m   6297\u001b[0m         ):\n\u001b[1;32m   6298\u001b[0m             \u001b[0;32mreturn\u001b[0m \u001b[0mself\u001b[0m\u001b[0;34m[\u001b[0m\u001b[0mname\u001b[0m\u001b[0;34m]\u001b[0m\u001b[0;34m\u001b[0m\u001b[0;34m\u001b[0m\u001b[0m\n\u001b[0;32m-> 6299\u001b[0;31m         \u001b[0;32mreturn\u001b[0m \u001b[0mobject\u001b[0m\u001b[0;34m.\u001b[0m\u001b[0m__getattribute__\u001b[0m\u001b[0;34m(\u001b[0m\u001b[0mself\u001b[0m\u001b[0;34m,\u001b[0m \u001b[0mname\u001b[0m\u001b[0;34m)\u001b[0m\u001b[0;34m\u001b[0m\u001b[0;34m\u001b[0m\u001b[0m\n\u001b[0m\u001b[1;32m   6300\u001b[0m \u001b[0;34m\u001b[0m\u001b[0m\n\u001b[1;32m   6301\u001b[0m     \u001b[0;34m@\u001b[0m\u001b[0mfinal\u001b[0m\u001b[0;34m\u001b[0m\u001b[0;34m\u001b[0m\u001b[0m\n",
            "\u001b[0;31mAttributeError\u001b[0m: 'DataFrame' object has no attribute 'array'"
          ]
        }
      ]
    }
  ]
}