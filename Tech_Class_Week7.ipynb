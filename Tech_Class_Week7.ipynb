{
  "nbformat": 4,
  "nbformat_minor": 0,
  "metadata": {
    "colab": {
      "provenance": [],
      "authorship_tag": "ABX9TyMRsxjBJU4VwwS2ALXRB53e",
      "include_colab_link": true
    },
    "kernelspec": {
      "name": "python3",
      "display_name": "Python 3"
    },
    "language_info": {
      "name": "python"
    }
  },
  "cells": [
    {
      "cell_type": "markdown",
      "metadata": {
        "id": "view-in-github",
        "colab_type": "text"
      },
      "source": [
        "<a href=\"https://colab.research.google.com/github/Stephen-Data-Engineer-Public/BASIC-PYTHON-PROJECT/blob/main/Tech_Class_Week7.ipynb\" target=\"_parent\"><img src=\"https://colab.research.google.com/assets/colab-badge.svg\" alt=\"Open In Colab\"/></a>"
      ]
    },
    {
      "cell_type": "markdown",
      "source": [
        " # **Variables**"
      ],
      "metadata": {
        "id": "JIyjTIAYUDyK"
      }
    },
    {
      "cell_type": "markdown",
      "source": [
        "**Variables** are like containers that hold the value of something. But to better understand them, think of a variable as a tag or label you assign to a value.\n",
        "\n",
        "**Tips for naming variables:**\n",
        "\n",
        "- Spaces are not allowed in variable names, but underscores (_) can be used to separate words.\n",
        "\n",
        "- Avoid using Python keywords and function names as variable names. For example, do not use the word print as a variable name — these are called Python reserved words.\n",
        "\n",
        "- Variable names should be short and descriptive.\n",
        "\n",
        "- Be careful when using the lowercase letter l and uppercase letter O — they can easily be confused with the numbers 1 and 0.\n",
        "\n",
        "- Use uppercase letters for variables that represent constants; otherwise, use lowercase letters for regular variables.\n",
        "\n",
        "**Avoid** these words: **False**, **await**, **else**, **import**, **pass**, **None**, **break**, **in**, **except**, **raise**, **True**, **class**, **finally**, **is**, **return**, **and**, **continue**, **for**        **lambda**, **try**, **as**, **def**, **from**, **nonlocal**, **while**, **assert**, **del**, **global**, **not**,  **with**, **async**, **elif**, **if**, **or**, **yield**\n",
        "#### **Naming and Using Variables:**"
      ],
      "metadata": {
        "id": "ml766hVp6fxS"
      }
    },
    {
      "cell_type": "code",
      "source": [
        "message = \"Hello World!\"\n",
        "print(isinstance(message, int))"
      ],
      "metadata": {
        "colab": {
          "base_uri": "https://localhost:8080/"
        },
        "id": "-7NiunzUX_e0",
        "outputId": "2e0c2ee9-6b32-4330-dd9b-4d11ca7fdff3"
      },
      "execution_count": 5,
      "outputs": [
        {
          "output_type": "stream",
          "name": "stdout",
          "text": [
            "False\n"
          ]
        }
      ]
    },
    {
      "cell_type": "markdown",
      "source": [
        "# **Data Types**"
      ],
      "metadata": {
        "id": "fbDlNyo1Iyay"
      }
    },
    {
      "cell_type": "markdown",
      "source": [
        "### **String Data Types**\n",
        "\n",
        "A **string** is a series of characters. Anything inside a quote is considered a string in python, and mostly just use double quotes. E.g., `\"This is a computer\"` Just like we have `DATEADD` `MAX` `ISNULL` in SQL, we have functions, methods, attributes. We will discuss what these are in a minute.  "
      ],
      "metadata": {
        "id": "-h4HqoXgUHBn"
      }
    },
    {
      "cell_type": "code",
      "source": [],
      "metadata": {
        "id": "2Ug3mT4l-DW3"
      },
      "execution_count": null,
      "outputs": []
    },
    {
      "cell_type": "markdown",
      "source": [
        "##### **String functions, Methods, and attribute**\n",
        "\n",
        "- Using variables in string\n",
        "- Adding whitespaces to string with tabs or newlines\n",
        "- Removing the whitespaces\n",
        "- Removing prefixes and suffixes\n",
        "\n",
        "\n"
      ],
      "metadata": {
        "id": "uOACyT9NHlHs"
      }
    },
    {
      "cell_type": "code",
      "source": [],
      "metadata": {
        "colab": {
          "base_uri": "https://localhost:8080/"
        },
        "id": "OKolTXIGxIVf",
        "outputId": "8ea5433b-f009-4792-8387-71f1220b2f9f"
      },
      "execution_count": null,
      "outputs": [
        {
          "output_type": "execute_result",
          "data": {
            "text/plain": [
              "3"
            ]
          },
          "metadata": {},
          "execution_count": 2
        }
      ]
    },
    {
      "cell_type": "markdown",
      "source": [
        "### **Number Data Type**"
      ],
      "metadata": {
        "id": "CADy4EUcUHSn"
      }
    },
    {
      "cell_type": "markdown",
      "source": [
        "##### **Number functions, Methods, and attribute**"
      ],
      "metadata": {
        "id": "1gl4nHXw4tZ0"
      }
    },
    {
      "cell_type": "code",
      "source": [],
      "metadata": {
        "id": "60o44Gqf4mcc"
      },
      "execution_count": null,
      "outputs": []
    },
    {
      "cell_type": "markdown",
      "source": [
        "##### **Assigning Multiple Values**"
      ],
      "metadata": {
        "id": "pYzD0NXXB-Sd"
      }
    },
    {
      "cell_type": "code",
      "source": [],
      "metadata": {
        "id": "gaYgOf5WCKy1"
      },
      "execution_count": null,
      "outputs": []
    },
    {
      "cell_type": "markdown",
      "source": [
        "# **Debugging**\n"
      ],
      "metadata": {
        "id": "HVGJCie1pNQp"
      }
    },
    {
      "cell_type": "markdown",
      "source": [
        "**Types of Error:**\n",
        "Three kinds of errors can occur in a program: syntax errors, runtime errors, and semantic errors. It is useful to distinguish among them in order to track them down more quickly:\n",
        "\n",
        "**Syntax error**\n",
        "“Syntax” refers to the structure of a program and the rules about that structure. If there is a syntax error anywhere in your program, Python does not run the program. It displays an error message immediately.\n",
        "\n",
        "**Runtime error**\n",
        "If there are no syntax errors in your program, it can start running. But if something goes wrong, Python displays an error message and stops. This type of error is called a runtime error. It is also called an exception because it indicates that something exceptional has happened.\n",
        "\n",
        "**Semantic error**\n",
        "The third type of error is “semantic,” which means related to meaning. If there is a semantic error in your program, it runs without generating error messages, but it does not do what you intended. Identifying semantic errors can be tricky because it requires you to work backward by looking at the output of the program and trying to figure out what it is doing."
      ],
      "metadata": {
        "id": "VBQX4kYFpTqX"
      }
    },
    {
      "cell_type": "code",
      "source": [],
      "metadata": {
        "id": "P8ptXTqopdKf"
      },
      "execution_count": null,
      "outputs": []
    },
    {
      "cell_type": "markdown",
      "source": [
        "# **Data Structures**"
      ],
      "metadata": {
        "id": "Sg_xsxX6UH4w"
      }
    },
    {
      "cell_type": "markdown",
      "source": [
        "### **Introducing Lists**"
      ],
      "metadata": {
        "id": "uTkpoogsIP6K"
      }
    },
    {
      "cell_type": "markdown",
      "source": [
        "A **list** is a collection of items arranged in a specific order. In Python, a list is a built-in data structure used to store multiple items in a single variable.\n",
        "Lists are ordered, mutable (changeable), and can hold items of **different data types**, though they are often of the same type for consistency."
      ],
      "metadata": {
        "id": "GJ7-LVd3HRO_"
      }
    },
    {
      "cell_type": "code",
      "source": [
        "s = \"ex-student\"\n",
        "\n",
        "t = s.split('-')\n",
        "t"
      ],
      "metadata": {
        "colab": {
          "base_uri": "https://localhost:8080/"
        },
        "id": "-Sxxqt-UHE8_",
        "outputId": "8ab9daa6-9b28-4929-84c5-52d83cd0cc52"
      },
      "execution_count": 44,
      "outputs": [
        {
          "output_type": "execute_result",
          "data": {
            "text/plain": [
              "['ex', 'student']"
            ]
          },
          "metadata": {},
          "execution_count": 44
        }
      ]
    },
    {
      "cell_type": "markdown",
      "source": [
        "##### **Modifying, Adding, and Removing Elements in a list**"
      ],
      "metadata": {
        "id": "9-veQspoFZlh"
      }
    },
    {
      "cell_type": "markdown",
      "source": [
        "### **Introduction to Dictionaries**"
      ],
      "metadata": {
        "id": "UsYmu-EUE0mq"
      }
    },
    {
      "cell_type": "markdown",
      "source": [
        "A **dictionary** is like a list, but more general. In a list, the indices have to be integers; in a dictionary they can be (almost) any type."
      ],
      "metadata": {
        "id": "zI_dmQwkd1nI"
      }
    },
    {
      "cell_type": "code",
      "source": [],
      "metadata": {
        "id": "yvHV9ljsCfPC"
      },
      "execution_count": null,
      "outputs": []
    },
    {
      "cell_type": "markdown",
      "source": [
        "### **Introduction to Tuples**"
      ],
      "metadata": {
        "id": "XNSovFyfk0jz"
      }
    },
    {
      "cell_type": "code",
      "source": [],
      "metadata": {
        "id": "eVqMWw2Tk7YT"
      },
      "execution_count": null,
      "outputs": []
    },
    {
      "cell_type": "markdown",
      "source": [
        "# **Libraries**\n",
        "\n",
        "\n",
        "\n"
      ],
      "metadata": {
        "id": "Hi8KMRrIJnPp"
      }
    },
    {
      "cell_type": "markdown",
      "source": [
        "\n",
        "---\n",
        "\n",
        "### 🧮 **NumPy** – *Numerical Computing*\n",
        "\n",
        "**Use Case:**\n",
        "You're building a preprocessing script for a machine learning model that analyzes electricity usage. You use NumPy to normalize consumption values and perform rolling averages on time series data from smart meters.\n",
        "\n",
        "---\n",
        "\n",
        "### 🧪 **SciPy** – *Scientific Utilities*\n",
        "\n",
        "**Use Case:**\n",
        "You’re cleaning noisy IoT sensor data before storing it in a data warehouse. SciPy helps you apply signal filtering (e.g., low-pass filters) to smooth out irregular spikes in the measurements.\n",
        "\n",
        "---\n",
        "\n",
        "### 📊 **Pandas** – *Tabular Data Handling*\n",
        "\n",
        "**Use Case:**\n",
        "You're analyzing user sign-up logs from a web app. You load CSVs using pandas, clean missing timestamps, group by region, and compute daily user growth before exporting a summary report.\n",
        "\n",
        "---\n",
        "\n",
        "### ⚡ **Polars** – *Fast DataFrames for Big Data*\n",
        "\n",
        "**Use Case:**\n",
        "You need to process large Parquet log files (several GBs) daily for a marketing analytics dashboard. Using Polars, you filter, join, and aggregate this data much faster than with pandas, saving processing time and memory.\n",
        "\n",
        "---\n",
        "\n",
        "### 🤖 **Scikit-learn** – *Traditional Machine Learning*\n",
        "\n",
        "**Use Case:**\n",
        "You’re building a churn prediction model for a subscription service. After preparing your data, you use Scikit-learn to train a logistic regression model and evaluate it using cross-validation — all within a reproducible pipeline.\n",
        "\n",
        "---\n",
        "\n",
        "### 🧠 **PyTorch / TensorFlow** – *Deep Learning*\n",
        "\n",
        "**Use Case:**\n",
        "You're creating a text classification system to label incoming support tickets. You use PyTorch to fine-tune a pre-trained transformer model and deploy it to tag issues (billing, technical, etc.) for faster triage.\n",
        "\n",
        "---\n",
        "\n",
        "### 🗣 **spaCy / NLTK / Gensim** – *Text Processing & NLP*\n",
        "\n",
        "**Use Case:**\n",
        "You're analyzing customer reviews from an e-commerce site. You use spaCy to extract named entities (brands, products) and Gensim to group reviews into key topics for product improvement insights.\n",
        "\n",
        "---\n",
        "\n",
        "### 🗃 **Database Bindings (e.g., psycopg2, SQLAlchemy)**\n",
        "\n",
        "**Use Case:**\n",
        "You build an ETL job that connects to a PostgreSQL database, extracts product sales data, aggregates it by category, and writes the transformed result into a reporting table used by a dashboard.\n",
        "\n",
        "---\n",
        "\n",
        "### 🌐 **Web Frameworks (Flask, FastAPI)**\n",
        "\n",
        "**Use Case:**\n",
        "After training a model that scores loan applications, you wrap it in a FastAPI app that accepts user input, runs predictions, and returns a risk score — enabling integration with a loan approval UI.\n",
        "\n",
        "---\n",
        "\n",
        "### 👁 **OpenCV** – *Computer Vision*\n",
        "\n",
        "**Use Case:**\n",
        "You build a data pipeline that processes images from security cameras. OpenCV is used to detect motion, crop relevant frames, and tag images before saving them for further analysis.\n",
        "\n",
        "---\n",
        "\n",
        "### 🔌 **API Bindings (Tweepy, Google API, etc.)** – *External Data Sources*\n",
        "\n",
        "**Use Case:**\n",
        "You automate data collection from Twitter using Tweepy to track mentions of a brand, then store the tweets in a database daily for sentiment analysis and trend monitoring.\n",
        "\n",
        "---\n",
        "\n",
        "\n"
      ],
      "metadata": {
        "id": "f6QHWs2Mxhh7"
      }
    },
    {
      "cell_type": "markdown",
      "source": [
        "# **Introduction to pandas**"
      ],
      "metadata": {
        "id": "D3KB1nTvJsoA"
      }
    },
    {
      "cell_type": "markdown",
      "source": [
        "**Pandas** is an open-source Python library for data analysis. It gives Python the ability to work with spreadsheet-like data, allowing for fast data loading, manipulation, merging, and more. Pandas introduces two new data types to Python: **Series** and **DataFrame**. A **DataFrame** represents your entire spreadsheet or rectangular dataset, whereas a **Series** is a single column of the DataFrame."
      ],
      "metadata": {
        "id": "PzVNlWc90FXo"
      }
    },
    {
      "cell_type": "markdown",
      "source": [
        "### **Load Your First Data Set:**"
      ],
      "metadata": {
        "id": "Cc_yX-xZ0gtI"
      }
    },
    {
      "cell_type": "code",
      "source": [],
      "metadata": {
        "id": "fQfSZIAF11ee"
      },
      "execution_count": null,
      "outputs": []
    },
    {
      "cell_type": "markdown",
      "source": [
        "### **Look at Columns, Rows, and Cells**"
      ],
      "metadata": {
        "id": "5BHJx1710m1X"
      }
    },
    {
      "cell_type": "markdown",
      "source": [
        "##### **subset of a row**"
      ],
      "metadata": {
        "id": "738bPWet0sGo"
      }
    },
    {
      "cell_type": "code",
      "source": [],
      "metadata": {
        "id": "_Rl8nHAa3kyl"
      },
      "execution_count": null,
      "outputs": []
    },
    {
      "cell_type": "markdown",
      "source": [
        "##### **Subsetting with range()**"
      ],
      "metadata": {
        "id": "1MKdLvAx1Oko"
      }
    },
    {
      "cell_type": "code",
      "source": [],
      "metadata": {
        "id": "rMSG3IHJ3l01"
      },
      "execution_count": null,
      "outputs": []
    },
    {
      "cell_type": "markdown",
      "source": [
        "### **Grouped and Aggregated Calculations**"
      ],
      "metadata": {
        "id": "3F0s1Jyt1Yf2"
      }
    },
    {
      "cell_type": "code",
      "source": [],
      "metadata": {
        "id": "kl5jtyDC15j-"
      },
      "execution_count": null,
      "outputs": []
    },
    {
      "cell_type": "markdown",
      "source": [
        "### **Basic Plot**"
      ],
      "metadata": {
        "id": "Y-0qA66317He"
      }
    },
    {
      "cell_type": "code",
      "source": [],
      "metadata": {
        "id": "ipAtG4Bi2TVN"
      },
      "execution_count": null,
      "outputs": []
    },
    {
      "cell_type": "markdown",
      "source": [
        "### **Create a Series**"
      ],
      "metadata": {
        "id": "7ACI1bw12T2G"
      }
    },
    {
      "cell_type": "code",
      "source": [],
      "metadata": {
        "id": "58T9LlcK2YFV"
      },
      "execution_count": null,
      "outputs": []
    },
    {
      "cell_type": "markdown",
      "source": [
        "### **Creating a DataFrame**"
      ],
      "metadata": {
        "id": "uxgkSKty2YX1"
      }
    },
    {
      "cell_type": "code",
      "source": [],
      "metadata": {
        "id": "Y1pBU4RF2jNm"
      },
      "execution_count": null,
      "outputs": []
    },
    {
      "cell_type": "markdown",
      "source": [
        "# **Project File Structure**"
      ],
      "metadata": {
        "id": "2GFeslKKkrVJ"
      }
    },
    {
      "cell_type": "markdown",
      "source": [
        "- What is file structure\n",
        "- How do you use it\n",
        "- Examples\n",
        "-"
      ],
      "metadata": {
        "id": "P0niAtOLv-H9"
      }
    },
    {
      "cell_type": "code",
      "source": [
        "# Create a file named mymodule.py\n",
        "with open(\"mymodule.py\", \"w\") as f:\n",
        "    f.write(\"\"\"\n",
        "def greet(name):\n",
        "    return f\"Hello, {name}!\"\n",
        "\n",
        "def add(a, b):\n",
        "    return a + b\n",
        "\"\"\")"
      ],
      "metadata": {
        "id": "FH2qYgqRCqK9"
      },
      "execution_count": null,
      "outputs": []
    },
    {
      "cell_type": "code",
      "source": [],
      "metadata": {
        "id": "NYhNnaRHAgqy"
      },
      "execution_count": null,
      "outputs": []
    },
    {
      "cell_type": "markdown",
      "source": [
        "# **Test**"
      ],
      "metadata": {
        "id": "Pd1Z35i_AiDS"
      }
    },
    {
      "cell_type": "code",
      "source": [
        "def is_palindrome(word):\n",
        "\n",
        "is_palindrome('')"
      ],
      "metadata": {
        "colab": {
          "base_uri": "https://localhost:8080/"
        },
        "id": "R5UcPNvYAluB",
        "outputId": "4da1e776-7125-413c-e6b1-da0c66391c90"
      },
      "execution_count": 53,
      "outputs": [
        {
          "output_type": "execute_result",
          "data": {
            "text/plain": [
              "True"
            ]
          },
          "metadata": {},
          "execution_count": 53
        }
      ]
    },
    {
      "cell_type": "code",
      "source": [
        "L = []\n",
        "L[\"table\"] = 0"
      ],
      "metadata": {
        "id": "t6AfqejSebGj"
      },
      "execution_count": null,
      "outputs": []
    }
  ]
}