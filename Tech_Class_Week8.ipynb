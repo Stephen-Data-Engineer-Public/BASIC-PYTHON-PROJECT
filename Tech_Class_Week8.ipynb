{
  "nbformat": 4,
  "nbformat_minor": 0,
  "metadata": {
    "colab": {
      "provenance": [],
      "collapsed_sections": [
        "XNSovFyfk0jz"
      ],
      "authorship_tag": "ABX9TyMMMd1j8A2kvwrYPNdns+q2",
      "include_colab_link": true
    },
    "kernelspec": {
      "name": "python3",
      "display_name": "Python 3"
    },
    "language_info": {
      "name": "python"
    }
  },
  "cells": [
    {
      "cell_type": "markdown",
      "metadata": {
        "id": "view-in-github",
        "colab_type": "text"
      },
      "source": [
        "<a href=\"https://colab.research.google.com/github/Stephen-Data-Engineer-Public/BASIC-PYTHON-PROJECT/blob/main/Tech_Class_Week8.ipynb\" target=\"_parent\"><img src=\"https://colab.research.google.com/assets/colab-badge.svg\" alt=\"Open In Colab\"/></a>"
      ]
    },
    {
      "cell_type": "markdown",
      "source": [
        " # **Variables**"
      ],
      "metadata": {
        "id": "JIyjTIAYUDyK"
      }
    },
    {
      "cell_type": "markdown",
      "source": [
        "**Variables** are like containers that hold the value of something. But to better understand them, think of a variable as a tag or label you assign to a value.\n",
        "\n",
        "**Tips for naming variables:**\n",
        "\n",
        "- Spaces are not allowed in variable names, but underscores (_) can be used to separate words.\n",
        "\n",
        "- Avoid using Python keywords and function names as variable names. For example, do not use the word print as a variable name — these are called Python reserved words.\n",
        "\n",
        "- Variable names should be short and descriptive.\n",
        "\n",
        "- Be careful when using the lowercase letter l and uppercase letter O — they can easily be confused with the numbers 1 and 0.\n",
        "\n",
        "- Use uppercase letters for variables that represent constants; otherwise, use lowercase letters for regular variables.\n",
        "\n",
        "**Avoid** these words: **False**, **await**, **else**, **import**, **pass**, **None**, **break**, **in**, **except**, **raise**, **True**, **class**, **finally**, **is**, **return**, **and**, **continue**, **for**        **lambda**, **try**, **as**, **def**, **from**, **nonlocal**, **while**, **assert**, **del**, **global**, **not**,  **with**, **async**, **elif**, **if**, **or**, **yield**\n",
        "#### **Naming and Using Variables:**"
      ],
      "metadata": {
        "id": "ml766hVp6fxS"
      }
    },
    {
      "cell_type": "code",
      "source": [
        "message = \"Hello Resgad Students!\"\n",
        "print(message)\n",
        "\n",
        "\n",
        "'''Uncomment these codes and run them to see the errors\n",
        "\n",
        "1message = \"Hello Resgad Students!\"\n",
        "print(1message)\n",
        "-- You should get an error, which I will discuss in a minute called syntax error\n",
        "\n",
        "\n",
        "return = \"Hello Resgad Students!\"\n",
        "print(return)\n",
        "\n",
        "-- You should get an error, because the word \"return\" is a reserved word in python\n",
        "\n",
        "'''"
      ],
      "metadata": {
        "colab": {
          "base_uri": "https://localhost:8080/"
        },
        "id": "-7NiunzUX_e0",
        "outputId": "319677ea-d85a-442a-a29e-5d5258ba3a2c"
      },
      "execution_count": null,
      "outputs": [
        {
          "output_type": "stream",
          "name": "stdout",
          "text": [
            "Hello Resgad Students!\n"
          ]
        }
      ]
    },
    {
      "cell_type": "markdown",
      "source": [
        "# **Data Types**"
      ],
      "metadata": {
        "id": "fbDlNyo1Iyay"
      }
    },
    {
      "cell_type": "markdown",
      "source": [
        "### **String Data Types**\n",
        "\n",
        "A **string** is a series of characters. Anything inside a quote is considered a string in python, and mostly just use double quotes. E.g., `\"This is a computer\"` Just like we have `DATEADD` `MAX` `ISNULL` in SQL, we have functions, methods, attributes. We will discuss what these are in a minute.  "
      ],
      "metadata": {
        "id": "-h4HqoXgUHBn"
      }
    },
    {
      "cell_type": "code",
      "source": [
        "'''\n",
        "When creating a string, use double quotes, especially if the string contains an apostrophe. For example:\"\n",
        "'''\n",
        "name = \"Stephen's\"\n",
        "print(name)\n",
        "'''\n",
        "If I used single quotes, I would get an error. E.g.,\n",
        "name = 'Stephen's'\n",
        "print(name)\n",
        "'''"
      ],
      "metadata": {
        "colab": {
          "base_uri": "https://localhost:8080/"
        },
        "id": "2Ug3mT4l-DW3",
        "outputId": "4dc614f3-b5ec-4025-b3a8-f41233eafeb5"
      },
      "execution_count": null,
      "outputs": [
        {
          "output_type": "stream",
          "name": "stdout",
          "text": [
            "Stephen's\n"
          ]
        }
      ]
    },
    {
      "cell_type": "markdown",
      "source": [
        "##### **String functions, Methods, and attribute**\n",
        "\n",
        "- Using variables in string\n",
        "- Adding whitespaces to string with tabs or newlines\n",
        "- Removing the whitespaces\n",
        "- Removing prefixes and suffixes\n",
        "\n",
        "\n"
      ],
      "metadata": {
        "id": "uOACyT9NHlHs"
      }
    },
    {
      "cell_type": "code",
      "source": [
        "name = \"Stephen nwoye\"\n",
        "print(name.title())      #This will return a string with the first letter of each word capitalized.\n",
        "\n",
        "name = \"stephen nwoye\"\n",
        "print(name.upper())     # This will return STEPHEN NWOYE\n",
        "print(name.lower())     # This will return stephen nwoye\n",
        "\n",
        "'''\n",
        "You can decide to use variables in strings E.g.,\n",
        "'''\n",
        "first_name = \"Stephen\"\n",
        "last_name = \"Nwoye\"\n",
        "full_name = f\"Hello Mr. {first_name} {last_name}\"\n",
        "print(full_name)\n"
      ],
      "metadata": {
        "colab": {
          "base_uri": "https://localhost:8080/"
        },
        "id": "OKolTXIGxIVf",
        "outputId": "2f2fdba3-d34b-4b3e-bfb7-5bc5dfe0ca04"
      },
      "execution_count": null,
      "outputs": [
        {
          "output_type": "stream",
          "name": "stdout",
          "text": [
            "Stephen Nwoye\n",
            "STEPHEN NWOYE\n",
            "stephen nwoye\n",
            "Hello Mr. Stephen Nwoye\n"
          ]
        }
      ]
    },
    {
      "cell_type": "markdown",
      "source": [
        "In Python, there's something called a loop. A loop allows you to go over a list of items and perform an operation on each one, one after the other, until the end of the list.\n",
        "Using variables in strings can be very useful when working with a long list of people—for example, if you want to send each person a personalized, friendly email.\n",
        "Here's a simple example, Don't worry so much about how to write a loop we will cover that in a moment.:"
      ],
      "metadata": {
        "id": "9yGtuDdOxIu1"
      }
    },
    {
      "cell_type": "code",
      "source": [
        "people = [\"Stephen\", \"Maureen\", \"Kaycee\", \"Agnes\", \"Aisha\", \"Collins\"]\n",
        "\n",
        "for person in people:\n",
        "    print(f\"Hi {person}, hope you're having a great day!\")"
      ],
      "metadata": {
        "colab": {
          "base_uri": "https://localhost:8080/"
        },
        "id": "xWmG1sKIv2aS",
        "outputId": "146dfc6a-36e7-4408-b8b9-84a84665a589"
      },
      "execution_count": null,
      "outputs": [
        {
          "output_type": "stream",
          "name": "stdout",
          "text": [
            "Hi Stephen, hope you're having a great day!\n",
            "Hi Maureen, hope you're having a great day!\n",
            "Hi Kaycee, hope you're having a great day!\n",
            "Hi Agnes, hope you're having a great day!\n",
            "Hi Aisha, hope you're having a great day!\n",
            "Hi Collins, hope you're having a great day!\n"
          ]
        }
      ]
    },
    {
      "cell_type": "markdown",
      "source": [
        "In Python, whitespace (like spaces, tabs, or invisible characters) can make two strings look the same but actually be different. This can cause if statements to fail even when the text looks identical.\n",
        "For example: even a small extra space can make two values completely different.\n",
        "For example, the name \"Alice\" and \"Alice \" may look the same to us,\n",
        "but Python treats them as different because of the space at the end.\n",
        "This means that a condition like if name == \"Alice\" will fail if the variable name actually contains \"Alice \" (with a space), even though they appear visually similar.\n"
      ],
      "metadata": {
        "id": "zjKgPKlPxRKr"
      }
    },
    {
      "cell_type": "code",
      "source": [
        "\n",
        "name = \"Alice \"\n",
        "\n",
        "if name == \"Alice\":\n",
        "    print(\"First one is a Match!\")\n",
        "else:\n",
        "    print(\"First one is a No match.\")\n",
        "\n",
        "name = \"Alice\"\n",
        "\n",
        "if name == \"Alice\":\n",
        "    print(\"Second one is a Match!\")\n",
        "else:\n",
        "    print(\"Second one is a No match.\")\n",
        "\n",
        "\n"
      ],
      "metadata": {
        "colab": {
          "base_uri": "https://localhost:8080/"
        },
        "id": "3zHrr97YxEzY",
        "outputId": "342cd977-2ab8-40a8-94d8-6514c3287964"
      },
      "execution_count": null,
      "outputs": [
        {
          "output_type": "stream",
          "name": "stdout",
          "text": [
            "First one is a No match.\n",
            "Second one is a Match!\n"
          ]
        }
      ]
    },
    {
      "cell_type": "markdown",
      "source": [
        "### **Number Data Type**"
      ],
      "metadata": {
        "id": "CADy4EUcUHSn"
      }
    },
    {
      "cell_type": "markdown",
      "source": [
        "##### **Number functions, Methods, and attribute**"
      ],
      "metadata": {
        "id": "1gl4nHXw4tZ0"
      }
    },
    {
      "cell_type": "code",
      "source": [
        "print(123 + 222 )\n",
        "print(1.5 * 4 )"
      ],
      "metadata": {
        "colab": {
          "base_uri": "https://localhost:8080/"
        },
        "id": "60o44Gqf4mcc",
        "outputId": "eb7b6f40-0b15-4f49-c1f3-f383b4522d1c"
      },
      "execution_count": null,
      "outputs": [
        {
          "output_type": "stream",
          "name": "stdout",
          "text": [
            "345\n",
            "6.0\n"
          ]
        }
      ]
    },
    {
      "cell_type": "code",
      "source": [
        "# Range function, generate a range of numbers\n",
        "for value in range(5):\n",
        "    print(value, end=' ') # Using range(5) gives numbers from 0 to 4 (not including 5)"
      ],
      "metadata": {
        "colab": {
          "base_uri": "https://localhost:8080/"
        },
        "id": "T6prND0fUpYz",
        "outputId": "710be5b5-1c6a-479c-d5ff-53ab33da8a68"
      },
      "execution_count": null,
      "outputs": [
        {
          "output_type": "stream",
          "name": "stdout",
          "text": [
            "0 1 2 3 4 "
          ]
        }
      ]
    },
    {
      "cell_type": "markdown",
      "source": [
        "##### **Assigning Multiple Values**\n",
        "You can assign values to more than one variable using just a single line of code. This can help shorten your programs and make them easier to read; you’ll use this technique most often when initializing a set of numbers. You need to separate the variable names with commas, and do the same with the values, and Python will assign each value to its respective variable. As long as the number of values matches the number of variables, Python will match them up correctly."
      ],
      "metadata": {
        "id": "pYzD0NXXB-Sd"
      }
    },
    {
      "cell_type": "code",
      "source": [
        "x, y, z = 1, 2, 5\n",
        "print(z)\n",
        "print(y)\n",
        "print(x)"
      ],
      "metadata": {
        "colab": {
          "base_uri": "https://localhost:8080/"
        },
        "id": "gaYgOf5WCKy1",
        "outputId": "707dbf38-daec-4d05-81ef-38c2f188705c"
      },
      "execution_count": null,
      "outputs": [
        {
          "output_type": "stream",
          "name": "stdout",
          "text": [
            "5\n",
            "2\n",
            "1\n"
          ]
        }
      ]
    },
    {
      "cell_type": "markdown",
      "source": [
        "# **Debugging**\n"
      ],
      "metadata": {
        "id": "HVGJCie1pNQp"
      }
    },
    {
      "cell_type": "markdown",
      "source": [
        "**Types of Error:**\n",
        "Three kinds of errors can occur in a program: syntax errors, runtime errors, and semantic errors. It is useful to distinguish among them in order to track them down more quickly:\n",
        "\n",
        "**Syntax error**\n",
        "“Syntax” refers to the structure of a program and the rules about that structure. If there is a syntax error anywhere in your program, Python does not run the program. It displays an error message immediately.\n",
        "\n",
        "**Runtime or Type error**\n",
        "If there are no syntax errors in your program, it can start running. But if something goes wrong, Python displays an error message and stops. This type of error is called a runtime error. It is also called an exception because it indicates that something exceptional has happened.\n",
        "\n",
        "**Semantic error**\n",
        "The third type of error is “semantic,” which means related to meaning. If there is a semantic error in your program, it runs without generating error messages, but it does not do what you intended. Identifying semantic errors can be tricky because it requires you to work backward by looking at the output of the program and trying to figure out what it is doing."
      ],
      "metadata": {
        "id": "VBQX4kYFpTqX"
      }
    },
    {
      "cell_type": "code",
      "source": [
        "million! = 1000000       # ❌ SyntaxError: The exclamation mark is not valid syntax in variable names.\n",
        "                         # In Python, variable names cannot contain special characters like \"!\".\n",
        "                         # Also, \"!\" is used in math to represent factorial, but that's done like: math.factorial(million)\n",
        "\n",
        "'123' / 3                # ❌ TypeError: You can't divide a string ('123') by a number (3).\n",
        "                         # Python doesn't know how to perform division between different types like str and int.\n",
        "                         # To fix this, you could convert the string to an integer: int('123') / 3\n",
        "\n",
        "1 + 3 / 2                # ⚠️ Semantic error: This code runs, but might not do what you intend.\n",
        "                         # According to BODMAS (operator precedence), division happens before addition.\n",
        "                         # So this is evaluated as: 1 + (3 / 2) = 1 + 1.5 = 2.5\n",
        "                         # If your intention was to first add 1 + 3, then divide by 2, you should write: (1 + 3) / 2\n"
      ],
      "metadata": {
        "id": "P8ptXTqopdKf"
      },
      "execution_count": null,
      "outputs": []
    },
    {
      "cell_type": "markdown",
      "source": [
        "# **Data Structures**"
      ],
      "metadata": {
        "id": "Sg_xsxX6UH4w"
      }
    },
    {
      "cell_type": "markdown",
      "source": [
        "### **Introducing Lists**"
      ],
      "metadata": {
        "id": "uTkpoogsIP6K"
      }
    },
    {
      "cell_type": "markdown",
      "source": [
        "A **list** is a collection of items arranged in a specific order. In Python, a list is a built-in data structure used to store multiple items in a single variable.\n",
        "Lists are ordered, mutable (changeable), and can hold items of **different data types**, though they are often of the same type for consistency."
      ],
      "metadata": {
        "id": "GJ7-LVd3HRO_"
      }
    },
    {
      "cell_type": "code",
      "source": [
        "\n",
        "small_list = [\"stephen\", \"Henry\", 1, 3, 5, ]\n",
        "small_list[2]"
      ],
      "metadata": {
        "colab": {
          "base_uri": "https://localhost:8080/"
        },
        "id": "-Sxxqt-UHE8_",
        "outputId": "4a0a78ff-3f4f-4930-8ded-4a47c3893aca"
      },
      "execution_count": null,
      "outputs": [
        {
          "output_type": "execute_result",
          "data": {
            "text/plain": [
              "1"
            ]
          },
          "metadata": {},
          "execution_count": 163
        }
      ]
    },
    {
      "cell_type": "markdown",
      "source": [
        "**Nested List**\n",
        "The elements of a list don’t have to be the same type. The following list contains a string, a float, an integer, and even another list:"
      ],
      "metadata": {
        "id": "tKd1s0EfsQkM"
      }
    },
    {
      "cell_type": "code",
      "source": [
        "t = ['spam', 2.0, 5, [10, 20]]\n",
        "\n",
        "len(t)  # You can see how how it counts the [10, 20] as a single record, you can return 20 from the nested list\n",
        "t[3][1]"
      ],
      "metadata": {
        "colab": {
          "base_uri": "https://localhost:8080/"
        },
        "id": "H4sVnMLbsd9s",
        "outputId": "12310f7c-35b2-4671-9ab6-dc20208fd3f7"
      },
      "execution_count": null,
      "outputs": [
        {
          "output_type": "execute_result",
          "data": {
            "text/plain": [
              "20"
            ]
          },
          "metadata": {},
          "execution_count": 35
        }
      ]
    },
    {
      "cell_type": "markdown",
      "source": [
        "##### **Modifying, Adding, and Removing Elements in a list**\n",
        "Unlike strings tuples, lists are mutable. When the bracket operator appears on the left side of an assignment, it identifies the element of the list that will be assigned:"
      ],
      "metadata": {
        "id": "9-veQspoFZlh"
      }
    },
    {
      "cell_type": "code",
      "source": [
        "numbers = [42, 123, 5, 89, 0, 7]\n",
        "numbers[1] = 17\n",
        "numbers[-2]  #If you were to start counting from the back of the list, the last item is index number -1, the second to the last is -2."
      ],
      "metadata": {
        "id": "UBSljJtd9Os_",
        "colab": {
          "base_uri": "https://localhost:8080/"
        },
        "outputId": "c6fb47fa-4f2d-4e5f-c1b8-a2e86b4475f0"
      },
      "execution_count": null,
      "outputs": [
        {
          "output_type": "execute_result",
          "data": {
            "text/plain": [
              "0"
            ]
          },
          "metadata": {},
          "execution_count": 10
        }
      ]
    },
    {
      "cell_type": "markdown",
      "source": [
        "##### **List Methods**"
      ],
      "metadata": {
        "id": "xIKUrjZHti2b"
      }
    },
    {
      "cell_type": "code",
      "source": [
        "# append adds a new element to the end of a list:\n",
        "t.append('stephen')\n",
        "t"
      ],
      "metadata": {
        "colab": {
          "base_uri": "https://localhost:8080/"
        },
        "id": "AAoYAy8gtYy0",
        "outputId": "fb2a1929-d687-4a1d-edd1-3ebca4c78fff"
      },
      "execution_count": null,
      "outputs": [
        {
          "output_type": "execute_result",
          "data": {
            "text/plain": [
              "['spam', 2.0, 5, [10, 20], 'stephen']"
            ]
          },
          "metadata": {},
          "execution_count": 36
        }
      ]
    },
    {
      "cell_type": "code",
      "source": [
        "# extend takes a list as an argument and appends all of the elements:\n",
        "t.extend([\"Kaycee\", \"Maureen\", \"Agnes\", \"Aisha\", \"Collins\"])\n",
        "print(t)"
      ],
      "metadata": {
        "colab": {
          "base_uri": "https://localhost:8080/"
        },
        "id": "Z6N6smq2uFbj",
        "outputId": "d31ac291-4c82-4de9-d426-2441079b4507"
      },
      "execution_count": null,
      "outputs": [
        {
          "output_type": "stream",
          "name": "stdout",
          "text": [
            "['spam', 2.0, 5, [10, 20], 'stephen', 'Kaycee', 'Maureen', 'Agnes', 'Aisha', 'Collins']\n"
          ]
        }
      ]
    },
    {
      "cell_type": "code",
      "source": [
        "# There are two methods that remove elements from a list. If you know the index of the element you want, you can use pop:\n",
        "t.pop(1)\n",
        "print(t)  # If you don't pass a argument in pop(), it will remove the last item one the list\n",
        "one_of_the_list = t.pop(0)\n",
        "one_of_the_list  # You can also save the removed item when you use pop()"
      ],
      "metadata": {
        "colab": {
          "base_uri": "https://localhost:8080/",
          "height": 35
        },
        "id": "pEYk9VJgu-Oj",
        "outputId": "eaf706bf-16d6-49ad-eceb-dde152b4a69d"
      },
      "execution_count": null,
      "outputs": [
        {
          "output_type": "execute_result",
          "data": {
            "text/plain": [
              "'spam'"
            ],
            "application/vnd.google.colaboratory.intrinsic+json": {
              "type": "string"
            }
          },
          "metadata": {},
          "execution_count": 38
        }
      ]
    },
    {
      "cell_type": "code",
      "source": [
        "# If you know the item name you want to remove from the list and not the index number, use remove()\n",
        "t.remove('stephen')\n",
        "t"
      ],
      "metadata": {
        "colab": {
          "base_uri": "https://localhost:8080/"
        },
        "id": "xQyf2gtNwONM",
        "outputId": "92b513d4-12a5-4e34-cf69-fed34294e5cd"
      },
      "execution_count": null,
      "outputs": [
        {
          "output_type": "execute_result",
          "data": {
            "text/plain": [
              "[5, [10, 20], 'Kaycee', 'Maureen', 'Agnes', 'Aisha', 'Collins']"
            ]
          },
          "metadata": {},
          "execution_count": 39
        }
      ]
    },
    {
      "cell_type": "markdown",
      "source": [
        "###### **List function**\n",
        "To convert from a string to a list of characters, you can use the list function:"
      ],
      "metadata": {
        "id": "dvAwgqFnwuy7"
      }
    },
    {
      "cell_type": "code",
      "source": [
        "s = 'spam'\n",
        "s_list = list(s)\n",
        "s_list"
      ],
      "metadata": {
        "colab": {
          "base_uri": "https://localhost:8080/"
        },
        "id": "DXNclVyIw0hc",
        "outputId": "25c8d609-f98f-419a-a977-b172e332baa4"
      },
      "execution_count": null,
      "outputs": [
        {
          "output_type": "execute_result",
          "data": {
            "text/plain": [
              "['s', 'p', 'a', 'm']"
            ]
          },
          "metadata": {},
          "execution_count": 40
        }
      ]
    },
    {
      "cell_type": "code",
      "source": [
        "#  If you want to break a string into words, you can use the split method:\n",
        "s = 'stevo la la'\n",
        "s_list_words = s.split()\n",
        "\n",
        "s_list_words"
      ],
      "metadata": {
        "colab": {
          "base_uri": "https://localhost:8080/"
        },
        "id": "LqMZghYcxILg",
        "outputId": "c030316e-6eae-4fe3-c240-1877702cb89a"
      },
      "execution_count": null,
      "outputs": [
        {
          "output_type": "execute_result",
          "data": {
            "text/plain": [
              "['stevo', 'la', 'la']"
            ]
          },
          "metadata": {},
          "execution_count": 41
        }
      ]
    },
    {
      "cell_type": "markdown",
      "source": [
        "**. join**: If you have a list of strings, you can concatenate them into a single string using join. join is a string method, so you have to invoke it on the delimiter and pass the list as an argument:\n",
        "\n"
      ],
      "metadata": {
        "id": "xCLoDE__xcMI"
      }
    },
    {
      "cell_type": "code",
      "source": [
        "delimiter = ' '\n",
        "t = ['stevo', 'la', 'la']\n",
        "s = delimiter.join(t) # or s = ' '.join(t)\n",
        "s"
      ],
      "metadata": {
        "colab": {
          "base_uri": "https://localhost:8080/",
          "height": 35
        },
        "id": "2k7oendrxaMv",
        "outputId": "15a9cf47-d651-4736-b8ee-fe2713f16405"
      },
      "execution_count": null,
      "outputs": [
        {
          "output_type": "execute_result",
          "data": {
            "text/plain": [
              "'stevo la la'"
            ],
            "application/vnd.google.colaboratory.intrinsic+json": {
              "type": "string"
            }
          },
          "metadata": {},
          "execution_count": 42
        }
      ]
    },
    {
      "cell_type": "markdown",
      "source": [
        "##### **Sorting List**\n",
        "Python provides a built-in function called sorted that sorts(just like order by in SQL) the elements of a list:"
      ],
      "metadata": {
        "id": "WRA8lVHax5fi"
      }
    },
    {
      "cell_type": "code",
      "source": [
        "scramble = ['c', 'a', 'b']\n",
        "sorted(scramble) # The original list is unchanged"
      ],
      "metadata": {
        "colab": {
          "base_uri": "https://localhost:8080/"
        },
        "id": "VgdcJWJ4yNv_",
        "outputId": "9759ccd1-f1a6-43c5-d70f-c8e02f555ec3"
      },
      "execution_count": null,
      "outputs": [
        {
          "output_type": "execute_result",
          "data": {
            "text/plain": [
              "['a', 'b', 'c']"
            ]
          },
          "metadata": {},
          "execution_count": 43
        }
      ]
    },
    {
      "cell_type": "code",
      "source": [
        "# To permanently sort a list in Python (i.e., change the original list itself), you use the .sort() method.\n",
        "my_list = [5, 2, 9, 1, 7]\n",
        "my_list.sort()\n",
        "print(my_list)"
      ],
      "metadata": {
        "colab": {
          "base_uri": "https://localhost:8080/"
        },
        "id": "-HGHMrw-yVjm",
        "outputId": "e0a9c23f-0c3f-40bb-fc8b-89a58d13ee04"
      },
      "execution_count": null,
      "outputs": [
        {
          "output_type": "stream",
          "name": "stdout",
          "text": [
            "[1, 2, 5, 7, 9]\n"
          ]
        }
      ]
    },
    {
      "cell_type": "markdown",
      "source": [
        "### **Introduction to Dictionaries**"
      ],
      "metadata": {
        "id": "UsYmu-EUE0mq"
      }
    },
    {
      "cell_type": "markdown",
      "source": [
        "A **dictionary** is like a list, ba collection of key-value pairs. Each key is connected to a value, and you can use a key to access the value associated with that key. A key’s value can be a number, a string, a list, or even another dictionary. In a list, the indices have to be integers; in a dictionary they can be (almost) any type."
      ],
      "metadata": {
        "id": "zI_dmQwkd1nI"
      }
    },
    {
      "cell_type": "code",
      "source": [
        "dic = {\"Agnes\": 2500, \"Maureen\": 2700, \"Kaycee\": 3000}\n",
        "\n",
        "for key, value in dic.items():\n",
        "  print(f\"Do you know, {key} earns {value}?\")"
      ],
      "metadata": {
        "colab": {
          "base_uri": "https://localhost:8080/"
        },
        "id": "yvHV9ljsCfPC",
        "outputId": "3e812a3f-b2b8-4419-933c-19d40127085e"
      },
      "execution_count": null,
      "outputs": [
        {
          "output_type": "stream",
          "name": "stdout",
          "text": [
            "Do you know, Agnes earns 2500?\n",
            "Do you know, Maureen earns 2700?\n",
            "Do you know, Kaycee earns 3000?\n"
          ]
        }
      ]
    },
    {
      "cell_type": "code",
      "source": [
        "# The get() method requires a key as a first argument. As a second optional argument, you can pass the value to be returned if the key doesn’t exist:\n",
        "dic = {\"Agnes\": 2500, \"Maureen\": 2700, \"Kaycee\": 3000}\n",
        "\n",
        "point_value = dic.get('stephen', 'No record') # Stephen isn't present in the dictionary\n",
        "print(point_value)"
      ],
      "metadata": {
        "colab": {
          "base_uri": "https://localhost:8080/"
        },
        "id": "RoSUW_mI3ekb",
        "outputId": "5ec54a0b-421c-4763-c0a4-9635bac0a24c"
      },
      "execution_count": null,
      "outputs": [
        {
          "output_type": "stream",
          "name": "stdout",
          "text": [
            "No record\n"
          ]
        }
      ]
    },
    {
      "cell_type": "markdown",
      "source": [
        "### **Introduction to Tuples**\n",
        "A **tuple** is a sequence of values. The values can be any type, and they are indexed by integers, so tuples are a lot like lists. The important difference is that tuples are immutable."
      ],
      "metadata": {
        "id": "XNSovFyfk0jz"
      }
    },
    {
      "cell_type": "code",
      "source": [
        "password = (1, 2, 3, 5)\n",
        "\n",
        "type(password)\n",
        "\n",
        "# If you try to remove or change an item in the tuple, you will get an error."
      ],
      "metadata": {
        "colab": {
          "base_uri": "https://localhost:8080/"
        },
        "id": "eVqMWw2Tk7YT",
        "outputId": "6098847a-77b6-46bb-b516-c87e615f969c"
      },
      "execution_count": null,
      "outputs": [
        {
          "output_type": "execute_result",
          "data": {
            "text/plain": [
              "tuple"
            ]
          },
          "metadata": {},
          "execution_count": 50
        }
      ]
    },
    {
      "cell_type": "code",
      "source": [
        "\n",
        "### Indexing\n",
        "\n",
        "t[0]  # returns first element\n",
        "\n",
        "### Slicing\n",
        "\n",
        "t[1:3]  # returns a new tuple with elements at index 1 and 2\n",
        "\n",
        "### Length\n",
        "len(t)\n",
        "\n",
        "### Iteration\n",
        "\n",
        "for item in t:\n",
        "    print(item)\n",
        "\n",
        "### Concatenation\n",
        "\n",
        "t1 = (1, 2)\n",
        "t2 = (3, 4)\n",
        "t3 = t1 + t2  # (1, 2, 3, 4)\n",
        "\n",
        "### Repetition\n",
        "\n",
        "\n",
        "t = (1, 2) * 3  # (1, 2, 1, 2, 1, 2)\n",
        "\n",
        "\n",
        "\n",
        "### Membership Testing\n",
        "\n",
        "3 in (1, 2, 3)  # True\n",
        "\n",
        "\n",
        "\n",
        "### Count and Index\n",
        "\n",
        "t = (1, 2, 2, 3)\n",
        "t.count(2)     # returns 2\n",
        "t.index(2)     # returns 1 (first occurrence)\n",
        "\n",
        "\n",
        "### tuple Unpacking\n",
        "\n",
        "t = (1, 2, 3)\n",
        "a, b, c = t\n",
        "\n",
        "\n",
        "### Nested Tuple Access\n",
        "\n",
        "t = (1, (2, 3))\n",
        "t[1][0]  # returns 2\n",
        "\n",
        "\n",
        "\n",
        "### Conversion\n",
        "\n",
        "list(t)  # Convert tuple to list\n",
        "tuple([1, 2, 3])  # Convert list to tuple\n",
        "```\n",
        "\n",
        "---\n",
        "\n",
        "### 1Sorted (returns list)\n",
        "\n",
        "\n",
        "sorted((3, 1, 2))  # [1, 2, 3]\n",
        "```\n",
        "\n",
        "---\n",
        "\n",
        "\n",
        "\n"
      ],
      "metadata": {
        "id": "doVC8rHo4_Sz"
      },
      "execution_count": null,
      "outputs": []
    },
    {
      "cell_type": "markdown",
      "source": [
        "# **User Input**"
      ],
      "metadata": {
        "id": "DwLqxbBCLXDS"
      }
    },
    {
      "cell_type": "markdown",
      "source": [
        "The **`input()`** function pauses your program and waits for the user to enter some text. Once python receives  the user's input, it assigns that input to a variable to make it convenient for you to work with."
      ],
      "metadata": {
        "id": "RPMsdLgoLZdi"
      }
    },
    {
      "cell_type": "code",
      "source": [
        "message = input(\"Tell me something, and I will repeat it back to you :\")\n",
        "print(message) #You can see that the variable message is assigned the value of what you inputted and not the text inside the `input()`.  Now we can use the user input to do something. E.g.,\n",
        "\n",
        "name = input(\"Tell me your name :\")\n",
        "print(f\"\\nHello, {name} you no well!\")"
      ],
      "metadata": {
        "id": "My7Sd6fyLgYC"
      },
      "execution_count": null,
      "outputs": []
    },
    {
      "cell_type": "markdown",
      "source": [
        "# **Loops**"
      ],
      "metadata": {
        "id": "DDv2SwBALu6x"
      }
    },
    {
      "cell_type": "markdown",
      "source": [
        "We have the **`for`** loop and the **`while`** loop. The `for` loop takes a collection of items and executes a block of code once for each item in the collection. In contrast, the `while` loop runs as long as a certain condition is true."
      ],
      "metadata": {
        "id": "pWSkEIhXLl7u"
      }
    },
    {
      "cell_type": "code",
      "source": [
        "for i in range(10):\n",
        "  print(i, end=' ') # The end=' ' tells the `print()` to return the result in a single line separated by a space. most likely, you will use the loop inside a function."
      ],
      "metadata": {
        "id": "v4uj4JsjLrgF"
      },
      "execution_count": null,
      "outputs": []
    },
    {
      "cell_type": "markdown",
      "source": [
        "## **The for Loop**\n",
        "---\n",
        "\n",
        "#### ✅ **When to Use a `for` Loop in Python**\n",
        "\n",
        "Use a `for` loop when you:\n",
        "\n",
        "* Want to **iterate over a sequence** (like a list, string, or tuple).\n",
        "* Know ahead of time **how many times** you need to repeat an action.\n",
        "* Are processing items in a collection.\n",
        "\n",
        "---\n",
        "\n",
        "#### 🔼 **Incremental Count: `for i in range(start, stop)`**\n",
        "\n",
        "##### 🔹 Use Case 1: Loop a fixed number of times\n"
      ],
      "metadata": {
        "id": "u28iGWzLPI2R"
      }
    },
    {
      "cell_type": "code",
      "source": [
        "for i in range(5):\n",
        "    print(\"Hello!\")"
      ],
      "metadata": {
        "id": "bjCwQZooPJsv"
      },
      "execution_count": null,
      "outputs": []
    },
    {
      "cell_type": "markdown",
      "source": [
        "📌 **Scenario**: You want to print something 5 times (from 0 to 4).\n",
        "\n",
        "---\n",
        "\n",
        "##### 🔹 Use Case 2: Go from 1 to N (like summing first 100 numbers)\n"
      ],
      "metadata": {
        "id": "HEoWAlqFPXFZ"
      }
    },
    {
      "cell_type": "code",
      "source": [
        "total = 0\n",
        "for i in range(1, 101):\n",
        "    total += i"
      ],
      "metadata": {
        "id": "5ums2dKFPnY6"
      },
      "execution_count": null,
      "outputs": []
    },
    {
      "cell_type": "markdown",
      "source": [
        "📌 **Scenario**: Summing numbers from 1 to 100.\n",
        "\n",
        "---\n",
        "\n",
        "##### 🔹 Use Case 3: Iterating through list indices"
      ],
      "metadata": {
        "id": "QbrUPUSNPu7C"
      }
    },
    {
      "cell_type": "code",
      "source": [
        "names = [\"Alice\", \"Bob\", \"Charlie\"]\n",
        "for i in range(len(names)):\n",
        "    print(f\"Person {i + 1}: {names[i]}\")"
      ],
      "metadata": {
        "id": "Mk4H_eZHPxvw"
      },
      "execution_count": null,
      "outputs": []
    },
    {
      "cell_type": "markdown",
      "source": [
        "📌 **Scenario**: You need both the index and the value from a list.\n",
        "\n",
        "---\n",
        "\n",
        "#### 🔽 **Decreasing Count: `for i in range(start, stop, step)` with a negative step**\n",
        "\n",
        "##### 🔹 Use Case 4: Countdown timer"
      ],
      "metadata": {
        "id": "zCfS5KO2P-In"
      }
    },
    {
      "cell_type": "code",
      "source": [
        "for i in range(10, 0, -1):\n",
        "    print(i)\n",
        "print(\"Blast off!\")"
      ],
      "metadata": {
        "id": "b5UpO47SP-61"
      },
      "execution_count": null,
      "outputs": []
    },
    {
      "cell_type": "markdown",
      "source": [
        "📌 **Scenario**: Simulating a countdown (e.g., rocket launch).\n",
        "\n",
        "---\n",
        "\n",
        "##### 🔹 Use Case 5: Reverse iteration over indices"
      ],
      "metadata": {
        "id": "_gEdgkFOQFha"
      }
    },
    {
      "cell_type": "code",
      "source": [
        "items = [\"apple\", \"banana\", \"cherry\"]\n",
        "for i in range(len(items) - 1, -1, -1):\n",
        "    print(items[i])"
      ],
      "metadata": {
        "id": "Y_if7eduQHuP"
      },
      "execution_count": null,
      "outputs": []
    },
    {
      "cell_type": "markdown",
      "source": [
        "📌 **Scenario**: Looping through a list in reverse order.\n",
        "\n",
        "---\n",
        "\n",
        "##### 🔹 Use Case 6: Removing items from a list safely (from end to start)"
      ],
      "metadata": {
        "id": "kr_33bkzQO5A"
      }
    },
    {
      "cell_type": "code",
      "source": [
        "my_list = [1, 2, 3, 4, 5]\n",
        "for i in range(len(my_list) - 1, -1, -1):\n",
        "    if my_list[i] % 2 == 0:\n",
        "        del my_list[i]"
      ],
      "metadata": {
        "id": "2t_Xk8VuQRbd"
      },
      "execution_count": null,
      "outputs": []
    },
    {
      "cell_type": "markdown",
      "source": [
        "##### Summary Table\n",
        "\n",
        "| Loop Type              | Syntax Example              | Typical Use Case                    |\n",
        "| ---------------------- | --------------------------- | ----------------------------------- |\n",
        "| Incremental            | `for i in range(5)`         | Repeating something N times         |\n",
        "| Incremental with range | `for i in range(1, 11)`     | Counting 1 to 10, summing numbers   |\n",
        "| Decreasing             | `for i in range(10, 0, -1)` | Countdown, reverse order operations |\n",
        "| Iterating by index     | `for i in range(len(list))` | Access items and their positions    |\n",
        "\n",
        "---"
      ],
      "metadata": {
        "id": "K8bw1_ICQb74"
      }
    },
    {
      "cell_type": "markdown",
      "source": [
        "## **The while loop**"
      ],
      "metadata": {
        "id": "OWT9RrgTQwLv"
      }
    },
    {
      "cell_type": "markdown",
      "source": [
        "```python\n",
        "current_number = 1\n",
        "while current_number <= 10:\n",
        "    print(current_number)\n",
        "    current_number += 1\n",
        "```\n",
        "\n",
        "In the first line, we start counting from 1 by assigning current_number the value 1. The while loop is then set to keep running as long as the value of current_number is less than or equal to 10. The code inside the loop prints the value of current_number and then adds 1 to that value with current_number += 1. (The += operator is shorthand for current_number = current_number + 1.)\n",
        "\n",
        "\n",
        "## Letting the User Choose when to Quit\n",
        "\n",
        "We’ll define a quit value and then keep the program running as long as the user has not entered the quit value:\n",
        "\n",
        "```python\n",
        "prompt = \"\\nTell me something, and I will repeat it back to you:\"\n",
        "prompt += \"\\nEnter 'quit' to end the program. \"\n",
        "\n",
        "message = \"\"\n",
        "while message != 'quit':\n",
        "    message = input(prompt)\n",
        "    print(message)\n",
        "```\n",
        "\n",
        "## Using a Flag\n",
        "\n",
        "For a program that should run only as long as many conditions are true, you can define one variable that determines whether or not the entire program is active. This variable, called a flag, acts as a signal to the program. We can write our programs so they run while the flag is set to True and stop running when any of several events sets the value of the flag to False. As a result, our overall while statement needs to check only one condition: whether the flag is currently True. Then, all our other tests (to see if an event has occurred that should set the flag to False) can be neatly organized in the rest of the program.\n",
        "\n",
        "```python\n",
        "prompt = \"\\nTell me something, and I will repeat it back to you:\"\n",
        "prompt += \"\\nEnter 'quit' to end the program. \"\n",
        "\n",
        "active = True\n",
        "while active:\n",
        "    message = input(prompt)\n",
        "\n",
        "    if message == 'quit':\n",
        "        active = False\n",
        "    else:\n",
        "        print(message)\n",
        "\n",
        "```\n",
        "## Using break to Exit a Loop\n",
        "To exit a while loop immediately without running any remaining code in the loop, regardless of the results of any conditional test, use the break statement. The break statement directs the flow of your program; you can use it to control which lines of code are executed and which aren’t, so the program only executes code that you want it to, when you want it to.\n",
        "\n",
        "For example, consider a program that asks the user about places they’ve visited. We can stop the while loop in this program by calling break as soon as the user enters the 'quit' value:\n",
        "\n",
        "```python\n",
        "prompt = \"\\nPlease enter the name of a city you have visited:\"\n",
        "prompt += \"\\n(Enter 'quit' when you are finished.) \"\n",
        "\n",
        "while True:\n",
        "    city = input(prompt)\n",
        "\n",
        "    if city == 'quit':\n",
        "        break\n",
        "    else:\n",
        "        print(f\"I'd love to go to {city.title()}!\")\n",
        "```\n",
        "\n",
        "## Using continue in a Loop\n",
        "Rather than breaking out of a loop entirely without executing the rest of its code, you can use the continue statement to return to the beginning of the loop, based on the result of a conditional test. For example, consider a loop that counts from 1 to 10 but prints only the odd numbers in that range. First, we set current_number to 0. Because it’s less than 10, Python enters the while loop. Once inside the loop, we increment the count by 1 , so current_number is 1. The if statement then checks the modulo of current_number and 2. If the modulo is 0 (which means current_number is divisible by 2), the continue statement tells Python to ignore the rest of the loop and return to the beginning. If the current number is not divisible by 2, the rest of the loop is executed and Python prints the current number:\n",
        "\n",
        "```python\n",
        "current_number = 0\n",
        "while current_number < 10:\n",
        "    current_number += 1\n",
        "    if current_number % 2 == 0:\n",
        "        continue\n",
        "\n",
        "    print(current_number)\n",
        "\n",
        "```\n",
        "\n",
        "---\n",
        "\n",
        "\n",
        "## 🔍 Key Differences between for loop and while loop\n",
        "\n",
        "| Feature            | `for` Loop                              | `while` Loop                                   |\n",
        "| ------------------ | --------------------------------------- | ---------------------------------------------- |\n",
        "| **Iteration Type** | Iterates over a known sequence or range | Repeats as long as a condition is true         |\n",
        "| **Control**        | Python handles iteration                | You must control the loop variable             |\n",
        "| **Use Case**       | When the number of iterations is known  | When you need flexible or unknown-length loops |\n",
        "| **Risk**           | Less risk of infinite loop              | Higher risk if condition never becomes false   |\n",
        "\n",
        "---\n",
        "\n",
        "## 🧠 Summary\n",
        "\n",
        "* Use **`for`** when looping over items in a collection or a known range.\n",
        "* Use **`while`** when looping based on a condition that may depend on something dynamic or external.\n"
      ],
      "metadata": {
        "id": "TJ4BWjJ8QpZW"
      }
    },
    {
      "cell_type": "markdown",
      "source": [
        "## Using a while Loop with Lists and Dictionaries\n",
        "A for loop is effective for looping through a list, but you shouldn’t modify a list inside a for loop because Python will have trouble keeping track of the items in the list. To modify a list as you work through it, use a while loop. Using while loops with lists and dictionaries allows you to collect, store, and organize lots of input to examine and report on later."
      ],
      "metadata": {
        "id": "n2Fum4ZQRCrw"
      }
    },
    {
      "cell_type": "code",
      "source": [
        "# Start with users that need to be verified,\n",
        "#  and an empty list to hold confirmed users.\n",
        "unconfirmed_users = ['Stephen', 'Kaycee', 'Aisha', 'Agnes', 'Collins', 'Maureen']\n",
        "confirmed_users = []\n",
        "\n",
        "# Verify each user until there are no more unconfirmed users.\n",
        "#  Move each verified user into the list of confirmed users.\n",
        "while unconfirmed_users:\n",
        "    current_user = unconfirmed_users.pop()\n",
        "\n",
        "    print(f\"Verifying user: {current_user.title()}\")\n",
        "    confirmed_users.append(current_user)\n",
        "\n",
        "# Display all confirmed users.\n",
        "print(\"\\nThe following users have been confirmed:\")\n",
        "for confirmed_user in confirmed_users:\n",
        "    print(confirmed_user.title())"
      ],
      "metadata": {
        "id": "s1ieDLkMQN70"
      },
      "execution_count": null,
      "outputs": []
    },
    {
      "cell_type": "markdown",
      "source": [
        "### Filling a Dictionary with User Input\n",
        "You can prompt for as much input as you need in each pass through a while loop. Let’s make a polling program in which each pass through the loop prompts for the participant’s name and response. We’ll store the data we gather in a dictionary, because we want to connect each response with a particular user:"
      ],
      "metadata": {
        "id": "Jy_5QYajROrl"
      }
    },
    {
      "cell_type": "code",
      "source": [
        "responses = {}\n",
        "# Set a flag to indicate that polling is active.\n",
        "polling_active = True\n",
        "\n",
        "while polling_active:\n",
        "    # Prompt for the person's name and response.\n",
        "    name = input(\"\\nWhat is your name? \")\n",
        "    response = input(\"Which movie do you enjoy watching?  \")\n",
        "\n",
        "    # Store the response in the dictionary.\n",
        "    responses[name] = response\n",
        "\n",
        "    # Find out if anyone else is going to take the poll.\n",
        "    repeat = input(\"Would you like to let another person respond? (yes/ no) \")\n",
        "    if repeat == 'no':\n",
        "        polling_active = False\n",
        "\n",
        "# Polling is complete. Show the results.\n",
        "print(\"\\n--- Poll Results ---\")\n",
        "for name, response in responses.items():\n",
        "    print(f\"{name} enjoys watching {response}.\")"
      ],
      "metadata": {
        "id": "G49dguDKRSYU"
      },
      "execution_count": null,
      "outputs": []
    },
    {
      "cell_type": "markdown",
      "source": [
        "# **Libraries**\n",
        "\n",
        "\n",
        "\n"
      ],
      "metadata": {
        "id": "Hi8KMRrIJnPp"
      }
    },
    {
      "cell_type": "markdown",
      "source": [
        "\n",
        "---\n",
        "\n",
        "### 🧮 **NumPy** – *Numerical Computing*\n",
        "\n",
        "**Use Case:**\n",
        "You're building a preprocessing script for a machine learning model that analyzes electricity usage. You use NumPy to normalize consumption values and perform rolling averages on time series data from smart meters.\n",
        "\n",
        "---\n",
        "\n",
        "### 🧪 **SciPy** – *Scientific Utilities*\n",
        "\n",
        "**Use Case:**\n",
        "You’re cleaning noisy IoT sensor data before storing it in a data warehouse. SciPy helps you apply signal filtering (e.g., low-pass filters) to smooth out irregular spikes in the measurements.\n",
        "\n",
        "---\n",
        "\n",
        "### 📊 **Pandas** – *Tabular Data Handling*\n",
        "\n",
        "**Use Case:**\n",
        "You're analyzing user sign-up logs from a web app. You load CSVs using pandas, clean missing timestamps, group by region, and compute daily user growth before exporting a summary report.\n",
        "\n",
        "---\n",
        "\n",
        "### ⚡ **Polars** – *Fast DataFrames for Big Data*\n",
        "\n",
        "**Use Case:**\n",
        "You need to process large Parquet log files (several GBs) daily for a marketing analytics dashboard. Using Polars, you filter, join, and aggregate this data much faster than with pandas, saving processing time and memory.\n",
        "\n",
        "---\n",
        "\n",
        "### 🤖 **Scikit-learn** – *Traditional Machine Learning*\n",
        "\n",
        "**Use Case:**\n",
        "You’re building a churn prediction model for a subscription service. After preparing your data, you use Scikit-learn to train a logistic regression model and evaluate it using cross-validation — all within a reproducible pipeline.\n",
        "\n",
        "---\n",
        "\n",
        "### 🧠 **PyTorch / TensorFlow** – *Deep Learning*\n",
        "\n",
        "**Use Case:**\n",
        "You're creating a text classification system to label incoming support tickets. You use PyTorch to fine-tune a pre-trained transformer model and deploy it to tag issues (billing, technical, etc.) for faster triage.\n",
        "\n",
        "---\n",
        "\n",
        "### 🗣 **spaCy / NLTK / Gensim** – *Text Processing & NLP*\n",
        "\n",
        "**Use Case:**\n",
        "You're analyzing customer reviews from an e-commerce site. You use spaCy to extract named entities (brands, products) and Gensim to group reviews into key topics for product improvement insights.\n",
        "\n",
        "---\n",
        "\n",
        "### 🗃 **Database Bindings (e.g., psycopg2, SQLAlchemy)**\n",
        "\n",
        "**Use Case:**\n",
        "You build an ETL job that connects to a PostgreSQL database, extracts product sales data, aggregates it by category, and writes the transformed result into a reporting table used by a dashboard.\n",
        "\n",
        "---\n",
        "\n",
        "### 🌐 **Web Frameworks (Flask, FastAPI)**\n",
        "\n",
        "**Use Case:**\n",
        "After training a model that scores loan applications, you wrap it in a FastAPI app that accepts user input, runs predictions, and returns a risk score — enabling integration with a loan approval UI.\n",
        "\n",
        "---\n",
        "\n",
        "### 👁 **OpenCV** – *Computer Vision*\n",
        "\n",
        "**Use Case:**\n",
        "You build a data pipeline that processes images from security cameras. OpenCV is used to detect motion, crop relevant frames, and tag images before saving them for further analysis.\n",
        "\n",
        "---\n",
        "\n",
        "### 🔌 **API Bindings (Tweepy, Google API, etc.)** – *External Data Sources*\n",
        "\n",
        "**Use Case:**\n",
        "You automate data collection from Twitter using Tweepy to track mentions of a brand, then store the tweets in a database daily for sentiment analysis and trend monitoring.\n",
        "\n",
        "---\n",
        "\n",
        "\n"
      ],
      "metadata": {
        "id": "f6QHWs2Mxhh7"
      }
    },
    {
      "cell_type": "markdown",
      "source": [
        "# **Introduction to pandas**"
      ],
      "metadata": {
        "id": "D3KB1nTvJsoA"
      }
    },
    {
      "cell_type": "markdown",
      "source": [
        "**Pandas** is an open-source Python library for data analysis. It gives Python the ability to work with spreadsheet-like data, allowing for fast data loading, manipulation, merging, and more. Pandas introduces two new data types to Python: **Series** and **DataFrame**. A **DataFrame** represents your entire spreadsheet or rectangular dataset, whereas a **Series** is a single column of the DataFrame."
      ],
      "metadata": {
        "id": "PzVNlWc90FXo"
      }
    },
    {
      "cell_type": "markdown",
      "source": [
        "### **Load Your First Data Set:**"
      ],
      "metadata": {
        "id": "Cc_yX-xZ0gtI"
      }
    },
    {
      "cell_type": "code",
      "source": [
        "import pandas as pd\n",
        "\n",
        "\n",
        "\n",
        "df = pd.read_csv('/content/enhanced_student_habits_performance_dataset.csv')\n",
        "\n",
        "\n",
        "#df.index\n",
        "#df.loc[0]\n",
        "df.set_index('student_id', inplace=True)\n",
        "\n",
        "\n",
        "\n",
        "\n",
        "\n",
        "dt = df.iloc[[0, 1, 4, 6, 7, 9]]\n",
        "\n",
        "\n",
        "dt\n",
        "#type(dt)"
      ],
      "metadata": {
        "colab": {
          "base_uri": "https://localhost:8080/",
          "height": 336
        },
        "id": "fQfSZIAF11ee",
        "outputId": "2dd9b98c-43b2-4fc8-a13a-c0bb59368cde"
      },
      "execution_count": 2,
      "outputs": [
        {
          "output_type": "execute_result",
          "data": {
            "text/plain": [
              "            age  gender             major  study_hours_per_day  \\\n",
              "student_id                                                       \n",
              "100000       26    Male  Computer Science             7.645367   \n",
              "100001       28    Male              Arts             5.700000   \n",
              "100004       25  Female          Business             4.700000   \n",
              "100006       19    Male        Psychology             4.100000   \n",
              "100007       17    Male        Psychology             4.100000   \n",
              "100009       19    Male       Engineering             5.200000   \n",
              "\n",
              "            social_media_hours  netflix_hours part_time_job  \\\n",
              "student_id                                                    \n",
              "100000                     3.0            0.1           Yes   \n",
              "100001                     0.5            0.4            No   \n",
              "100004                     0.8            2.7           Yes   \n",
              "100006                     2.4            2.2           Yes   \n",
              "100007                     3.2            0.9            No   \n",
              "100009                     1.1            1.6           Yes   \n",
              "\n",
              "            attendance_percentage  sleep_hours diet_quality  ...  screen_time  \\\n",
              "student_id                                                   ...                \n",
              "100000                       70.3          6.2         Poor  ...         10.9   \n",
              "100001                       88.4          7.2         Good  ...          8.3   \n",
              "100004                       62.9          6.5         Good  ...          9.4   \n",
              "100006                       97.9          8.5         Good  ...          9.2   \n",
              "100007                       44.3          7.4         Fair  ...         10.0   \n",
              "100009                       40.1          7.2         Fair  ...          8.0   \n",
              "\n",
              "            study_environment access_to_tutoring  family_income_range  \\\n",
              "student_id                                                              \n",
              "100000      Co-Learning Group                Yes                 High   \n",
              "100001      Co-Learning Group                Yes                  Low   \n",
              "100004             Quiet Room                Yes               Medium   \n",
              "100006                   Dorm                Yes                 High   \n",
              "100007      Co-Learning Group                Yes                  Low   \n",
              "100009                   Cafe                Yes               Medium   \n",
              "\n",
              "           parental_support_level  motivation_level  exam_anxiety_score  \\\n",
              "student_id                                                                \n",
              "100000                          9                 7                   8   \n",
              "100001                          7                 2                  10   \n",
              "100004                          9                 1                  10   \n",
              "100006                          5                 7                   8   \n",
              "100007                          9                 3                  10   \n",
              "100009                          7                 9                   6   \n",
              "\n",
              "            learning_style time_management_score  exam_score  \n",
              "student_id                                                    \n",
              "100000             Reading                   3.0         100  \n",
              "100001             Reading                   6.0          99  \n",
              "100004             Reading                   7.1          98  \n",
              "100006         Kinesthetic                  10.0          97  \n",
              "100007         Kinesthetic                   7.5          84  \n",
              "100009            Auditory                   7.0         100  \n",
              "\n",
              "[6 rows x 30 columns]"
            ],
            "text/html": [
              "\n",
              "  <div id=\"df-7a0d4f5b-0a8e-4e74-8ba4-edb31803d9c9\" class=\"colab-df-container\">\n",
              "    <div>\n",
              "<style scoped>\n",
              "    .dataframe tbody tr th:only-of-type {\n",
              "        vertical-align: middle;\n",
              "    }\n",
              "\n",
              "    .dataframe tbody tr th {\n",
              "        vertical-align: top;\n",
              "    }\n",
              "\n",
              "    .dataframe thead th {\n",
              "        text-align: right;\n",
              "    }\n",
              "</style>\n",
              "<table border=\"1\" class=\"dataframe\">\n",
              "  <thead>\n",
              "    <tr style=\"text-align: right;\">\n",
              "      <th></th>\n",
              "      <th>age</th>\n",
              "      <th>gender</th>\n",
              "      <th>major</th>\n",
              "      <th>study_hours_per_day</th>\n",
              "      <th>social_media_hours</th>\n",
              "      <th>netflix_hours</th>\n",
              "      <th>part_time_job</th>\n",
              "      <th>attendance_percentage</th>\n",
              "      <th>sleep_hours</th>\n",
              "      <th>diet_quality</th>\n",
              "      <th>...</th>\n",
              "      <th>screen_time</th>\n",
              "      <th>study_environment</th>\n",
              "      <th>access_to_tutoring</th>\n",
              "      <th>family_income_range</th>\n",
              "      <th>parental_support_level</th>\n",
              "      <th>motivation_level</th>\n",
              "      <th>exam_anxiety_score</th>\n",
              "      <th>learning_style</th>\n",
              "      <th>time_management_score</th>\n",
              "      <th>exam_score</th>\n",
              "    </tr>\n",
              "    <tr>\n",
              "      <th>student_id</th>\n",
              "      <th></th>\n",
              "      <th></th>\n",
              "      <th></th>\n",
              "      <th></th>\n",
              "      <th></th>\n",
              "      <th></th>\n",
              "      <th></th>\n",
              "      <th></th>\n",
              "      <th></th>\n",
              "      <th></th>\n",
              "      <th></th>\n",
              "      <th></th>\n",
              "      <th></th>\n",
              "      <th></th>\n",
              "      <th></th>\n",
              "      <th></th>\n",
              "      <th></th>\n",
              "      <th></th>\n",
              "      <th></th>\n",
              "      <th></th>\n",
              "      <th></th>\n",
              "    </tr>\n",
              "  </thead>\n",
              "  <tbody>\n",
              "    <tr>\n",
              "      <th>100000</th>\n",
              "      <td>26</td>\n",
              "      <td>Male</td>\n",
              "      <td>Computer Science</td>\n",
              "      <td>7.645367</td>\n",
              "      <td>3.0</td>\n",
              "      <td>0.1</td>\n",
              "      <td>Yes</td>\n",
              "      <td>70.3</td>\n",
              "      <td>6.2</td>\n",
              "      <td>Poor</td>\n",
              "      <td>...</td>\n",
              "      <td>10.9</td>\n",
              "      <td>Co-Learning Group</td>\n",
              "      <td>Yes</td>\n",
              "      <td>High</td>\n",
              "      <td>9</td>\n",
              "      <td>7</td>\n",
              "      <td>8</td>\n",
              "      <td>Reading</td>\n",
              "      <td>3.0</td>\n",
              "      <td>100</td>\n",
              "    </tr>\n",
              "    <tr>\n",
              "      <th>100001</th>\n",
              "      <td>28</td>\n",
              "      <td>Male</td>\n",
              "      <td>Arts</td>\n",
              "      <td>5.700000</td>\n",
              "      <td>0.5</td>\n",
              "      <td>0.4</td>\n",
              "      <td>No</td>\n",
              "      <td>88.4</td>\n",
              "      <td>7.2</td>\n",
              "      <td>Good</td>\n",
              "      <td>...</td>\n",
              "      <td>8.3</td>\n",
              "      <td>Co-Learning Group</td>\n",
              "      <td>Yes</td>\n",
              "      <td>Low</td>\n",
              "      <td>7</td>\n",
              "      <td>2</td>\n",
              "      <td>10</td>\n",
              "      <td>Reading</td>\n",
              "      <td>6.0</td>\n",
              "      <td>99</td>\n",
              "    </tr>\n",
              "    <tr>\n",
              "      <th>100004</th>\n",
              "      <td>25</td>\n",
              "      <td>Female</td>\n",
              "      <td>Business</td>\n",
              "      <td>4.700000</td>\n",
              "      <td>0.8</td>\n",
              "      <td>2.7</td>\n",
              "      <td>Yes</td>\n",
              "      <td>62.9</td>\n",
              "      <td>6.5</td>\n",
              "      <td>Good</td>\n",
              "      <td>...</td>\n",
              "      <td>9.4</td>\n",
              "      <td>Quiet Room</td>\n",
              "      <td>Yes</td>\n",
              "      <td>Medium</td>\n",
              "      <td>9</td>\n",
              "      <td>1</td>\n",
              "      <td>10</td>\n",
              "      <td>Reading</td>\n",
              "      <td>7.1</td>\n",
              "      <td>98</td>\n",
              "    </tr>\n",
              "    <tr>\n",
              "      <th>100006</th>\n",
              "      <td>19</td>\n",
              "      <td>Male</td>\n",
              "      <td>Psychology</td>\n",
              "      <td>4.100000</td>\n",
              "      <td>2.4</td>\n",
              "      <td>2.2</td>\n",
              "      <td>Yes</td>\n",
              "      <td>97.9</td>\n",
              "      <td>8.5</td>\n",
              "      <td>Good</td>\n",
              "      <td>...</td>\n",
              "      <td>9.2</td>\n",
              "      <td>Dorm</td>\n",
              "      <td>Yes</td>\n",
              "      <td>High</td>\n",
              "      <td>5</td>\n",
              "      <td>7</td>\n",
              "      <td>8</td>\n",
              "      <td>Kinesthetic</td>\n",
              "      <td>10.0</td>\n",
              "      <td>97</td>\n",
              "    </tr>\n",
              "    <tr>\n",
              "      <th>100007</th>\n",
              "      <td>17</td>\n",
              "      <td>Male</td>\n",
              "      <td>Psychology</td>\n",
              "      <td>4.100000</td>\n",
              "      <td>3.2</td>\n",
              "      <td>0.9</td>\n",
              "      <td>No</td>\n",
              "      <td>44.3</td>\n",
              "      <td>7.4</td>\n",
              "      <td>Fair</td>\n",
              "      <td>...</td>\n",
              "      <td>10.0</td>\n",
              "      <td>Co-Learning Group</td>\n",
              "      <td>Yes</td>\n",
              "      <td>Low</td>\n",
              "      <td>9</td>\n",
              "      <td>3</td>\n",
              "      <td>10</td>\n",
              "      <td>Kinesthetic</td>\n",
              "      <td>7.5</td>\n",
              "      <td>84</td>\n",
              "    </tr>\n",
              "    <tr>\n",
              "      <th>100009</th>\n",
              "      <td>19</td>\n",
              "      <td>Male</td>\n",
              "      <td>Engineering</td>\n",
              "      <td>5.200000</td>\n",
              "      <td>1.1</td>\n",
              "      <td>1.6</td>\n",
              "      <td>Yes</td>\n",
              "      <td>40.1</td>\n",
              "      <td>7.2</td>\n",
              "      <td>Fair</td>\n",
              "      <td>...</td>\n",
              "      <td>8.0</td>\n",
              "      <td>Cafe</td>\n",
              "      <td>Yes</td>\n",
              "      <td>Medium</td>\n",
              "      <td>7</td>\n",
              "      <td>9</td>\n",
              "      <td>6</td>\n",
              "      <td>Auditory</td>\n",
              "      <td>7.0</td>\n",
              "      <td>100</td>\n",
              "    </tr>\n",
              "  </tbody>\n",
              "</table>\n",
              "<p>6 rows × 30 columns</p>\n",
              "</div>\n",
              "    <div class=\"colab-df-buttons\">\n",
              "\n",
              "  <div class=\"colab-df-container\">\n",
              "    <button class=\"colab-df-convert\" onclick=\"convertToInteractive('df-7a0d4f5b-0a8e-4e74-8ba4-edb31803d9c9')\"\n",
              "            title=\"Convert this dataframe to an interactive table.\"\n",
              "            style=\"display:none;\">\n",
              "\n",
              "  <svg xmlns=\"http://www.w3.org/2000/svg\" height=\"24px\" viewBox=\"0 -960 960 960\">\n",
              "    <path d=\"M120-120v-720h720v720H120Zm60-500h600v-160H180v160Zm220 220h160v-160H400v160Zm0 220h160v-160H400v160ZM180-400h160v-160H180v160Zm440 0h160v-160H620v160ZM180-180h160v-160H180v160Zm440 0h160v-160H620v160Z\"/>\n",
              "  </svg>\n",
              "    </button>\n",
              "\n",
              "  <style>\n",
              "    .colab-df-container {\n",
              "      display:flex;\n",
              "      gap: 12px;\n",
              "    }\n",
              "\n",
              "    .colab-df-convert {\n",
              "      background-color: #E8F0FE;\n",
              "      border: none;\n",
              "      border-radius: 50%;\n",
              "      cursor: pointer;\n",
              "      display: none;\n",
              "      fill: #1967D2;\n",
              "      height: 32px;\n",
              "      padding: 0 0 0 0;\n",
              "      width: 32px;\n",
              "    }\n",
              "\n",
              "    .colab-df-convert:hover {\n",
              "      background-color: #E2EBFA;\n",
              "      box-shadow: 0px 1px 2px rgba(60, 64, 67, 0.3), 0px 1px 3px 1px rgba(60, 64, 67, 0.15);\n",
              "      fill: #174EA6;\n",
              "    }\n",
              "\n",
              "    .colab-df-buttons div {\n",
              "      margin-bottom: 4px;\n",
              "    }\n",
              "\n",
              "    [theme=dark] .colab-df-convert {\n",
              "      background-color: #3B4455;\n",
              "      fill: #D2E3FC;\n",
              "    }\n",
              "\n",
              "    [theme=dark] .colab-df-convert:hover {\n",
              "      background-color: #434B5C;\n",
              "      box-shadow: 0px 1px 3px 1px rgba(0, 0, 0, 0.15);\n",
              "      filter: drop-shadow(0px 1px 2px rgba(0, 0, 0, 0.3));\n",
              "      fill: #FFFFFF;\n",
              "    }\n",
              "  </style>\n",
              "\n",
              "    <script>\n",
              "      const buttonEl =\n",
              "        document.querySelector('#df-7a0d4f5b-0a8e-4e74-8ba4-edb31803d9c9 button.colab-df-convert');\n",
              "      buttonEl.style.display =\n",
              "        google.colab.kernel.accessAllowed ? 'block' : 'none';\n",
              "\n",
              "      async function convertToInteractive(key) {\n",
              "        const element = document.querySelector('#df-7a0d4f5b-0a8e-4e74-8ba4-edb31803d9c9');\n",
              "        const dataTable =\n",
              "          await google.colab.kernel.invokeFunction('convertToInteractive',\n",
              "                                                    [key], {});\n",
              "        if (!dataTable) return;\n",
              "\n",
              "        const docLinkHtml = 'Like what you see? Visit the ' +\n",
              "          '<a target=\"_blank\" href=https://colab.research.google.com/notebooks/data_table.ipynb>data table notebook</a>'\n",
              "          + ' to learn more about interactive tables.';\n",
              "        element.innerHTML = '';\n",
              "        dataTable['output_type'] = 'display_data';\n",
              "        await google.colab.output.renderOutput(dataTable, element);\n",
              "        const docLink = document.createElement('div');\n",
              "        docLink.innerHTML = docLinkHtml;\n",
              "        element.appendChild(docLink);\n",
              "      }\n",
              "    </script>\n",
              "  </div>\n",
              "\n",
              "\n",
              "<div id=\"df-d4d3c81c-cc5e-4e34-a673-4200f70d296e\">\n",
              "  <button class=\"colab-df-quickchart\" onclick=\"quickchart('df-d4d3c81c-cc5e-4e34-a673-4200f70d296e')\"\n",
              "            title=\"Suggest charts\"\n",
              "            style=\"display:none;\">\n",
              "\n",
              "<svg xmlns=\"http://www.w3.org/2000/svg\" height=\"24px\"viewBox=\"0 0 24 24\"\n",
              "     width=\"24px\">\n",
              "    <g>\n",
              "        <path d=\"M19 3H5c-1.1 0-2 .9-2 2v14c0 1.1.9 2 2 2h14c1.1 0 2-.9 2-2V5c0-1.1-.9-2-2-2zM9 17H7v-7h2v7zm4 0h-2V7h2v10zm4 0h-2v-4h2v4z\"/>\n",
              "    </g>\n",
              "</svg>\n",
              "  </button>\n",
              "\n",
              "<style>\n",
              "  .colab-df-quickchart {\n",
              "      --bg-color: #E8F0FE;\n",
              "      --fill-color: #1967D2;\n",
              "      --hover-bg-color: #E2EBFA;\n",
              "      --hover-fill-color: #174EA6;\n",
              "      --disabled-fill-color: #AAA;\n",
              "      --disabled-bg-color: #DDD;\n",
              "  }\n",
              "\n",
              "  [theme=dark] .colab-df-quickchart {\n",
              "      --bg-color: #3B4455;\n",
              "      --fill-color: #D2E3FC;\n",
              "      --hover-bg-color: #434B5C;\n",
              "      --hover-fill-color: #FFFFFF;\n",
              "      --disabled-bg-color: #3B4455;\n",
              "      --disabled-fill-color: #666;\n",
              "  }\n",
              "\n",
              "  .colab-df-quickchart {\n",
              "    background-color: var(--bg-color);\n",
              "    border: none;\n",
              "    border-radius: 50%;\n",
              "    cursor: pointer;\n",
              "    display: none;\n",
              "    fill: var(--fill-color);\n",
              "    height: 32px;\n",
              "    padding: 0;\n",
              "    width: 32px;\n",
              "  }\n",
              "\n",
              "  .colab-df-quickchart:hover {\n",
              "    background-color: var(--hover-bg-color);\n",
              "    box-shadow: 0 1px 2px rgba(60, 64, 67, 0.3), 0 1px 3px 1px rgba(60, 64, 67, 0.15);\n",
              "    fill: var(--button-hover-fill-color);\n",
              "  }\n",
              "\n",
              "  .colab-df-quickchart-complete:disabled,\n",
              "  .colab-df-quickchart-complete:disabled:hover {\n",
              "    background-color: var(--disabled-bg-color);\n",
              "    fill: var(--disabled-fill-color);\n",
              "    box-shadow: none;\n",
              "  }\n",
              "\n",
              "  .colab-df-spinner {\n",
              "    border: 2px solid var(--fill-color);\n",
              "    border-color: transparent;\n",
              "    border-bottom-color: var(--fill-color);\n",
              "    animation:\n",
              "      spin 1s steps(1) infinite;\n",
              "  }\n",
              "\n",
              "  @keyframes spin {\n",
              "    0% {\n",
              "      border-color: transparent;\n",
              "      border-bottom-color: var(--fill-color);\n",
              "      border-left-color: var(--fill-color);\n",
              "    }\n",
              "    20% {\n",
              "      border-color: transparent;\n",
              "      border-left-color: var(--fill-color);\n",
              "      border-top-color: var(--fill-color);\n",
              "    }\n",
              "    30% {\n",
              "      border-color: transparent;\n",
              "      border-left-color: var(--fill-color);\n",
              "      border-top-color: var(--fill-color);\n",
              "      border-right-color: var(--fill-color);\n",
              "    }\n",
              "    40% {\n",
              "      border-color: transparent;\n",
              "      border-right-color: var(--fill-color);\n",
              "      border-top-color: var(--fill-color);\n",
              "    }\n",
              "    60% {\n",
              "      border-color: transparent;\n",
              "      border-right-color: var(--fill-color);\n",
              "    }\n",
              "    80% {\n",
              "      border-color: transparent;\n",
              "      border-right-color: var(--fill-color);\n",
              "      border-bottom-color: var(--fill-color);\n",
              "    }\n",
              "    90% {\n",
              "      border-color: transparent;\n",
              "      border-bottom-color: var(--fill-color);\n",
              "    }\n",
              "  }\n",
              "</style>\n",
              "\n",
              "  <script>\n",
              "    async function quickchart(key) {\n",
              "      const quickchartButtonEl =\n",
              "        document.querySelector('#' + key + ' button');\n",
              "      quickchartButtonEl.disabled = true;  // To prevent multiple clicks.\n",
              "      quickchartButtonEl.classList.add('colab-df-spinner');\n",
              "      try {\n",
              "        const charts = await google.colab.kernel.invokeFunction(\n",
              "            'suggestCharts', [key], {});\n",
              "      } catch (error) {\n",
              "        console.error('Error during call to suggestCharts:', error);\n",
              "      }\n",
              "      quickchartButtonEl.classList.remove('colab-df-spinner');\n",
              "      quickchartButtonEl.classList.add('colab-df-quickchart-complete');\n",
              "    }\n",
              "    (() => {\n",
              "      let quickchartButtonEl =\n",
              "        document.querySelector('#df-d4d3c81c-cc5e-4e34-a673-4200f70d296e button');\n",
              "      quickchartButtonEl.style.display =\n",
              "        google.colab.kernel.accessAllowed ? 'block' : 'none';\n",
              "    })();\n",
              "  </script>\n",
              "</div>\n",
              "\n",
              "  <div id=\"id_83877690-2c15-4368-aa40-82b21dffb79a\">\n",
              "    <style>\n",
              "      .colab-df-generate {\n",
              "        background-color: #E8F0FE;\n",
              "        border: none;\n",
              "        border-radius: 50%;\n",
              "        cursor: pointer;\n",
              "        display: none;\n",
              "        fill: #1967D2;\n",
              "        height: 32px;\n",
              "        padding: 0 0 0 0;\n",
              "        width: 32px;\n",
              "      }\n",
              "\n",
              "      .colab-df-generate:hover {\n",
              "        background-color: #E2EBFA;\n",
              "        box-shadow: 0px 1px 2px rgba(60, 64, 67, 0.3), 0px 1px 3px 1px rgba(60, 64, 67, 0.15);\n",
              "        fill: #174EA6;\n",
              "      }\n",
              "\n",
              "      [theme=dark] .colab-df-generate {\n",
              "        background-color: #3B4455;\n",
              "        fill: #D2E3FC;\n",
              "      }\n",
              "\n",
              "      [theme=dark] .colab-df-generate:hover {\n",
              "        background-color: #434B5C;\n",
              "        box-shadow: 0px 1px 3px 1px rgba(0, 0, 0, 0.15);\n",
              "        filter: drop-shadow(0px 1px 2px rgba(0, 0, 0, 0.3));\n",
              "        fill: #FFFFFF;\n",
              "      }\n",
              "    </style>\n",
              "    <button class=\"colab-df-generate\" onclick=\"generateWithVariable('dt')\"\n",
              "            title=\"Generate code using this dataframe.\"\n",
              "            style=\"display:none;\">\n",
              "\n",
              "  <svg xmlns=\"http://www.w3.org/2000/svg\" height=\"24px\"viewBox=\"0 0 24 24\"\n",
              "       width=\"24px\">\n",
              "    <path d=\"M7,19H8.4L18.45,9,17,7.55,7,17.6ZM5,21V16.75L18.45,3.32a2,2,0,0,1,2.83,0l1.4,1.43a1.91,1.91,0,0,1,.58,1.4,1.91,1.91,0,0,1-.58,1.4L9.25,21ZM18.45,9,17,7.55Zm-12,3A5.31,5.31,0,0,0,4.9,8.1,5.31,5.31,0,0,0,1,6.5,5.31,5.31,0,0,0,4.9,4.9,5.31,5.31,0,0,0,6.5,1,5.31,5.31,0,0,0,8.1,4.9,5.31,5.31,0,0,0,12,6.5,5.46,5.46,0,0,0,6.5,12Z\"/>\n",
              "  </svg>\n",
              "    </button>\n",
              "    <script>\n",
              "      (() => {\n",
              "      const buttonEl =\n",
              "        document.querySelector('#id_83877690-2c15-4368-aa40-82b21dffb79a button.colab-df-generate');\n",
              "      buttonEl.style.display =\n",
              "        google.colab.kernel.accessAllowed ? 'block' : 'none';\n",
              "\n",
              "      buttonEl.onclick = () => {\n",
              "        google.colab.notebook.generateWithVariable('dt');\n",
              "      }\n",
              "      })();\n",
              "    </script>\n",
              "  </div>\n",
              "\n",
              "    </div>\n",
              "  </div>\n"
            ],
            "application/vnd.google.colaboratory.intrinsic+json": {
              "type": "dataframe",
              "variable_name": "dt"
            }
          },
          "metadata": {},
          "execution_count": 2
        }
      ]
    },
    {
      "cell_type": "markdown",
      "source": [
        "### **Look at Columns, Rows, and Cells**"
      ],
      "metadata": {
        "id": "5BHJx1710m1X"
      }
    },
    {
      "cell_type": "markdown",
      "source": [
        "##### **subset of a row**"
      ],
      "metadata": {
        "id": "738bPWet0sGo"
      }
    },
    {
      "cell_type": "code",
      "source": [
        "#df.set_index('student_id', inplace=True)\n",
        "\n",
        "#df.reset_index(drop=True, inplace=True)\n",
        "\n",
        "df.set_index('age', inplace=True)\n",
        "\n",
        "#df.iloc[[2, 4]]\n",
        "\n"
      ],
      "metadata": {
        "id": "_Rl8nHAa3kyl"
      },
      "execution_count": null,
      "outputs": []
    },
    {
      "cell_type": "markdown",
      "source": [
        "##### **Subsetting with range()**"
      ],
      "metadata": {
        "id": "1MKdLvAx1Oko"
      }
    },
    {
      "cell_type": "code",
      "source": [
        "df.iloc[-1:]"
      ],
      "metadata": {
        "colab": {
          "base_uri": "https://localhost:8080/",
          "height": 161
        },
        "id": "rMSG3IHJ3l01",
        "outputId": "c8757d8b-935e-4717-b3a9-e280bf8f04ab"
      },
      "execution_count": null,
      "outputs": [
        {
          "output_type": "execute_result",
          "data": {
            "text/plain": [
              "            age gender        major  study_hours_per_day  social_media_hours  \\\n",
              "student_id                                                                     \n",
              "179999       25  Other  Engineering                  3.0                 4.5   \n",
              "\n",
              "            netflix_hours part_time_job  attendance_percentage  sleep_hours  \\\n",
              "student_id                                                                    \n",
              "179999                3.4           Yes                   97.7          5.3   \n",
              "\n",
              "           diet_quality  ...  screen_time  study_environment  \\\n",
              "student_id               ...                                   \n",
              "179999             Fair  ...         12.2  Co-Learning Group   \n",
              "\n",
              "           access_to_tutoring  family_income_range parental_support_level  \\\n",
              "student_id                                                                  \n",
              "179999                    Yes               Medium                      1   \n",
              "\n",
              "            motivation_level  exam_anxiety_score  learning_style  \\\n",
              "student_id                                                         \n",
              "179999                     8                   7         Reading   \n",
              "\n",
              "           time_management_score  exam_score  \n",
              "student_id                                    \n",
              "179999                       6.7         100  \n",
              "\n",
              "[1 rows x 30 columns]"
            ],
            "text/html": [
              "\n",
              "  <div id=\"df-6f28d77e-f35b-440a-9696-3bd0a01ccecd\" class=\"colab-df-container\">\n",
              "    <div>\n",
              "<style scoped>\n",
              "    .dataframe tbody tr th:only-of-type {\n",
              "        vertical-align: middle;\n",
              "    }\n",
              "\n",
              "    .dataframe tbody tr th {\n",
              "        vertical-align: top;\n",
              "    }\n",
              "\n",
              "    .dataframe thead th {\n",
              "        text-align: right;\n",
              "    }\n",
              "</style>\n",
              "<table border=\"1\" class=\"dataframe\">\n",
              "  <thead>\n",
              "    <tr style=\"text-align: right;\">\n",
              "      <th></th>\n",
              "      <th>age</th>\n",
              "      <th>gender</th>\n",
              "      <th>major</th>\n",
              "      <th>study_hours_per_day</th>\n",
              "      <th>social_media_hours</th>\n",
              "      <th>netflix_hours</th>\n",
              "      <th>part_time_job</th>\n",
              "      <th>attendance_percentage</th>\n",
              "      <th>sleep_hours</th>\n",
              "      <th>diet_quality</th>\n",
              "      <th>...</th>\n",
              "      <th>screen_time</th>\n",
              "      <th>study_environment</th>\n",
              "      <th>access_to_tutoring</th>\n",
              "      <th>family_income_range</th>\n",
              "      <th>parental_support_level</th>\n",
              "      <th>motivation_level</th>\n",
              "      <th>exam_anxiety_score</th>\n",
              "      <th>learning_style</th>\n",
              "      <th>time_management_score</th>\n",
              "      <th>exam_score</th>\n",
              "    </tr>\n",
              "    <tr>\n",
              "      <th>student_id</th>\n",
              "      <th></th>\n",
              "      <th></th>\n",
              "      <th></th>\n",
              "      <th></th>\n",
              "      <th></th>\n",
              "      <th></th>\n",
              "      <th></th>\n",
              "      <th></th>\n",
              "      <th></th>\n",
              "      <th></th>\n",
              "      <th></th>\n",
              "      <th></th>\n",
              "      <th></th>\n",
              "      <th></th>\n",
              "      <th></th>\n",
              "      <th></th>\n",
              "      <th></th>\n",
              "      <th></th>\n",
              "      <th></th>\n",
              "      <th></th>\n",
              "      <th></th>\n",
              "    </tr>\n",
              "  </thead>\n",
              "  <tbody>\n",
              "    <tr>\n",
              "      <th>179999</th>\n",
              "      <td>25</td>\n",
              "      <td>Other</td>\n",
              "      <td>Engineering</td>\n",
              "      <td>3.0</td>\n",
              "      <td>4.5</td>\n",
              "      <td>3.4</td>\n",
              "      <td>Yes</td>\n",
              "      <td>97.7</td>\n",
              "      <td>5.3</td>\n",
              "      <td>Fair</td>\n",
              "      <td>...</td>\n",
              "      <td>12.2</td>\n",
              "      <td>Co-Learning Group</td>\n",
              "      <td>Yes</td>\n",
              "      <td>Medium</td>\n",
              "      <td>1</td>\n",
              "      <td>8</td>\n",
              "      <td>7</td>\n",
              "      <td>Reading</td>\n",
              "      <td>6.7</td>\n",
              "      <td>100</td>\n",
              "    </tr>\n",
              "  </tbody>\n",
              "</table>\n",
              "<p>1 rows × 30 columns</p>\n",
              "</div>\n",
              "    <div class=\"colab-df-buttons\">\n",
              "\n",
              "  <div class=\"colab-df-container\">\n",
              "    <button class=\"colab-df-convert\" onclick=\"convertToInteractive('df-6f28d77e-f35b-440a-9696-3bd0a01ccecd')\"\n",
              "            title=\"Convert this dataframe to an interactive table.\"\n",
              "            style=\"display:none;\">\n",
              "\n",
              "  <svg xmlns=\"http://www.w3.org/2000/svg\" height=\"24px\" viewBox=\"0 -960 960 960\">\n",
              "    <path d=\"M120-120v-720h720v720H120Zm60-500h600v-160H180v160Zm220 220h160v-160H400v160Zm0 220h160v-160H400v160ZM180-400h160v-160H180v160Zm440 0h160v-160H620v160ZM180-180h160v-160H180v160Zm440 0h160v-160H620v160Z\"/>\n",
              "  </svg>\n",
              "    </button>\n",
              "\n",
              "  <style>\n",
              "    .colab-df-container {\n",
              "      display:flex;\n",
              "      gap: 12px;\n",
              "    }\n",
              "\n",
              "    .colab-df-convert {\n",
              "      background-color: #E8F0FE;\n",
              "      border: none;\n",
              "      border-radius: 50%;\n",
              "      cursor: pointer;\n",
              "      display: none;\n",
              "      fill: #1967D2;\n",
              "      height: 32px;\n",
              "      padding: 0 0 0 0;\n",
              "      width: 32px;\n",
              "    }\n",
              "\n",
              "    .colab-df-convert:hover {\n",
              "      background-color: #E2EBFA;\n",
              "      box-shadow: 0px 1px 2px rgba(60, 64, 67, 0.3), 0px 1px 3px 1px rgba(60, 64, 67, 0.15);\n",
              "      fill: #174EA6;\n",
              "    }\n",
              "\n",
              "    .colab-df-buttons div {\n",
              "      margin-bottom: 4px;\n",
              "    }\n",
              "\n",
              "    [theme=dark] .colab-df-convert {\n",
              "      background-color: #3B4455;\n",
              "      fill: #D2E3FC;\n",
              "    }\n",
              "\n",
              "    [theme=dark] .colab-df-convert:hover {\n",
              "      background-color: #434B5C;\n",
              "      box-shadow: 0px 1px 3px 1px rgba(0, 0, 0, 0.15);\n",
              "      filter: drop-shadow(0px 1px 2px rgba(0, 0, 0, 0.3));\n",
              "      fill: #FFFFFF;\n",
              "    }\n",
              "  </style>\n",
              "\n",
              "    <script>\n",
              "      const buttonEl =\n",
              "        document.querySelector('#df-6f28d77e-f35b-440a-9696-3bd0a01ccecd button.colab-df-convert');\n",
              "      buttonEl.style.display =\n",
              "        google.colab.kernel.accessAllowed ? 'block' : 'none';\n",
              "\n",
              "      async function convertToInteractive(key) {\n",
              "        const element = document.querySelector('#df-6f28d77e-f35b-440a-9696-3bd0a01ccecd');\n",
              "        const dataTable =\n",
              "          await google.colab.kernel.invokeFunction('convertToInteractive',\n",
              "                                                    [key], {});\n",
              "        if (!dataTable) return;\n",
              "\n",
              "        const docLinkHtml = 'Like what you see? Visit the ' +\n",
              "          '<a target=\"_blank\" href=https://colab.research.google.com/notebooks/data_table.ipynb>data table notebook</a>'\n",
              "          + ' to learn more about interactive tables.';\n",
              "        element.innerHTML = '';\n",
              "        dataTable['output_type'] = 'display_data';\n",
              "        await google.colab.output.renderOutput(dataTable, element);\n",
              "        const docLink = document.createElement('div');\n",
              "        docLink.innerHTML = docLinkHtml;\n",
              "        element.appendChild(docLink);\n",
              "      }\n",
              "    </script>\n",
              "  </div>\n",
              "\n",
              "\n",
              "    </div>\n",
              "  </div>\n"
            ],
            "application/vnd.google.colaboratory.intrinsic+json": {
              "type": "dataframe"
            }
          },
          "metadata": {},
          "execution_count": 172
        }
      ]
    },
    {
      "cell_type": "markdown",
      "source": [
        "### **Grouped and Aggregated Calculations**"
      ],
      "metadata": {
        "id": "3F0s1Jyt1Yf2"
      }
    },
    {
      "cell_type": "code",
      "source": [
        "grouped_data = df.groupby(['gender', 'major'])['study_hours_per_day']\n",
        "\n",
        "new =grouped_data.mean().reset_index()\n",
        "new\n"
      ],
      "metadata": {
        "colab": {
          "base_uri": "https://localhost:8080/",
          "height": 614
        },
        "id": "kl5jtyDC15j-",
        "outputId": "6142f242-a7d7-41c3-e210-9ddc3ca6c19a"
      },
      "execution_count": 3,
      "outputs": [
        {
          "output_type": "execute_result",
          "data": {
            "text/plain": [
              "    gender             major  study_hours_per_day\n",
              "0   Female              Arts             4.006226\n",
              "1   Female           Biology             3.982663\n",
              "2   Female          Business             4.008619\n",
              "3   Female  Computer Science             4.949543\n",
              "4   Female       Engineering             3.994725\n",
              "5   Female        Psychology             3.991872\n",
              "6     Male              Arts             4.025482\n",
              "7     Male           Biology             3.939492\n",
              "8     Male          Business             4.011913\n",
              "9     Male  Computer Science             4.981132\n",
              "10    Male       Engineering             4.029297\n",
              "11    Male        Psychology             4.042579\n",
              "12   Other              Arts             4.045626\n",
              "13   Other           Biology             4.052275\n",
              "14   Other          Business             3.980578\n",
              "15   Other  Computer Science             4.997371\n",
              "16   Other       Engineering             4.001471\n",
              "17   Other        Psychology             4.091470"
            ],
            "text/html": [
              "\n",
              "  <div id=\"df-769790e5-d9e4-44e7-a560-4e53b2415863\" class=\"colab-df-container\">\n",
              "    <div>\n",
              "<style scoped>\n",
              "    .dataframe tbody tr th:only-of-type {\n",
              "        vertical-align: middle;\n",
              "    }\n",
              "\n",
              "    .dataframe tbody tr th {\n",
              "        vertical-align: top;\n",
              "    }\n",
              "\n",
              "    .dataframe thead th {\n",
              "        text-align: right;\n",
              "    }\n",
              "</style>\n",
              "<table border=\"1\" class=\"dataframe\">\n",
              "  <thead>\n",
              "    <tr style=\"text-align: right;\">\n",
              "      <th></th>\n",
              "      <th>gender</th>\n",
              "      <th>major</th>\n",
              "      <th>study_hours_per_day</th>\n",
              "    </tr>\n",
              "  </thead>\n",
              "  <tbody>\n",
              "    <tr>\n",
              "      <th>0</th>\n",
              "      <td>Female</td>\n",
              "      <td>Arts</td>\n",
              "      <td>4.006226</td>\n",
              "    </tr>\n",
              "    <tr>\n",
              "      <th>1</th>\n",
              "      <td>Female</td>\n",
              "      <td>Biology</td>\n",
              "      <td>3.982663</td>\n",
              "    </tr>\n",
              "    <tr>\n",
              "      <th>2</th>\n",
              "      <td>Female</td>\n",
              "      <td>Business</td>\n",
              "      <td>4.008619</td>\n",
              "    </tr>\n",
              "    <tr>\n",
              "      <th>3</th>\n",
              "      <td>Female</td>\n",
              "      <td>Computer Science</td>\n",
              "      <td>4.949543</td>\n",
              "    </tr>\n",
              "    <tr>\n",
              "      <th>4</th>\n",
              "      <td>Female</td>\n",
              "      <td>Engineering</td>\n",
              "      <td>3.994725</td>\n",
              "    </tr>\n",
              "    <tr>\n",
              "      <th>5</th>\n",
              "      <td>Female</td>\n",
              "      <td>Psychology</td>\n",
              "      <td>3.991872</td>\n",
              "    </tr>\n",
              "    <tr>\n",
              "      <th>6</th>\n",
              "      <td>Male</td>\n",
              "      <td>Arts</td>\n",
              "      <td>4.025482</td>\n",
              "    </tr>\n",
              "    <tr>\n",
              "      <th>7</th>\n",
              "      <td>Male</td>\n",
              "      <td>Biology</td>\n",
              "      <td>3.939492</td>\n",
              "    </tr>\n",
              "    <tr>\n",
              "      <th>8</th>\n",
              "      <td>Male</td>\n",
              "      <td>Business</td>\n",
              "      <td>4.011913</td>\n",
              "    </tr>\n",
              "    <tr>\n",
              "      <th>9</th>\n",
              "      <td>Male</td>\n",
              "      <td>Computer Science</td>\n",
              "      <td>4.981132</td>\n",
              "    </tr>\n",
              "    <tr>\n",
              "      <th>10</th>\n",
              "      <td>Male</td>\n",
              "      <td>Engineering</td>\n",
              "      <td>4.029297</td>\n",
              "    </tr>\n",
              "    <tr>\n",
              "      <th>11</th>\n",
              "      <td>Male</td>\n",
              "      <td>Psychology</td>\n",
              "      <td>4.042579</td>\n",
              "    </tr>\n",
              "    <tr>\n",
              "      <th>12</th>\n",
              "      <td>Other</td>\n",
              "      <td>Arts</td>\n",
              "      <td>4.045626</td>\n",
              "    </tr>\n",
              "    <tr>\n",
              "      <th>13</th>\n",
              "      <td>Other</td>\n",
              "      <td>Biology</td>\n",
              "      <td>4.052275</td>\n",
              "    </tr>\n",
              "    <tr>\n",
              "      <th>14</th>\n",
              "      <td>Other</td>\n",
              "      <td>Business</td>\n",
              "      <td>3.980578</td>\n",
              "    </tr>\n",
              "    <tr>\n",
              "      <th>15</th>\n",
              "      <td>Other</td>\n",
              "      <td>Computer Science</td>\n",
              "      <td>4.997371</td>\n",
              "    </tr>\n",
              "    <tr>\n",
              "      <th>16</th>\n",
              "      <td>Other</td>\n",
              "      <td>Engineering</td>\n",
              "      <td>4.001471</td>\n",
              "    </tr>\n",
              "    <tr>\n",
              "      <th>17</th>\n",
              "      <td>Other</td>\n",
              "      <td>Psychology</td>\n",
              "      <td>4.091470</td>\n",
              "    </tr>\n",
              "  </tbody>\n",
              "</table>\n",
              "</div>\n",
              "    <div class=\"colab-df-buttons\">\n",
              "\n",
              "  <div class=\"colab-df-container\">\n",
              "    <button class=\"colab-df-convert\" onclick=\"convertToInteractive('df-769790e5-d9e4-44e7-a560-4e53b2415863')\"\n",
              "            title=\"Convert this dataframe to an interactive table.\"\n",
              "            style=\"display:none;\">\n",
              "\n",
              "  <svg xmlns=\"http://www.w3.org/2000/svg\" height=\"24px\" viewBox=\"0 -960 960 960\">\n",
              "    <path d=\"M120-120v-720h720v720H120Zm60-500h600v-160H180v160Zm220 220h160v-160H400v160Zm0 220h160v-160H400v160ZM180-400h160v-160H180v160Zm440 0h160v-160H620v160ZM180-180h160v-160H180v160Zm440 0h160v-160H620v160Z\"/>\n",
              "  </svg>\n",
              "    </button>\n",
              "\n",
              "  <style>\n",
              "    .colab-df-container {\n",
              "      display:flex;\n",
              "      gap: 12px;\n",
              "    }\n",
              "\n",
              "    .colab-df-convert {\n",
              "      background-color: #E8F0FE;\n",
              "      border: none;\n",
              "      border-radius: 50%;\n",
              "      cursor: pointer;\n",
              "      display: none;\n",
              "      fill: #1967D2;\n",
              "      height: 32px;\n",
              "      padding: 0 0 0 0;\n",
              "      width: 32px;\n",
              "    }\n",
              "\n",
              "    .colab-df-convert:hover {\n",
              "      background-color: #E2EBFA;\n",
              "      box-shadow: 0px 1px 2px rgba(60, 64, 67, 0.3), 0px 1px 3px 1px rgba(60, 64, 67, 0.15);\n",
              "      fill: #174EA6;\n",
              "    }\n",
              "\n",
              "    .colab-df-buttons div {\n",
              "      margin-bottom: 4px;\n",
              "    }\n",
              "\n",
              "    [theme=dark] .colab-df-convert {\n",
              "      background-color: #3B4455;\n",
              "      fill: #D2E3FC;\n",
              "    }\n",
              "\n",
              "    [theme=dark] .colab-df-convert:hover {\n",
              "      background-color: #434B5C;\n",
              "      box-shadow: 0px 1px 3px 1px rgba(0, 0, 0, 0.15);\n",
              "      filter: drop-shadow(0px 1px 2px rgba(0, 0, 0, 0.3));\n",
              "      fill: #FFFFFF;\n",
              "    }\n",
              "  </style>\n",
              "\n",
              "    <script>\n",
              "      const buttonEl =\n",
              "        document.querySelector('#df-769790e5-d9e4-44e7-a560-4e53b2415863 button.colab-df-convert');\n",
              "      buttonEl.style.display =\n",
              "        google.colab.kernel.accessAllowed ? 'block' : 'none';\n",
              "\n",
              "      async function convertToInteractive(key) {\n",
              "        const element = document.querySelector('#df-769790e5-d9e4-44e7-a560-4e53b2415863');\n",
              "        const dataTable =\n",
              "          await google.colab.kernel.invokeFunction('convertToInteractive',\n",
              "                                                    [key], {});\n",
              "        if (!dataTable) return;\n",
              "\n",
              "        const docLinkHtml = 'Like what you see? Visit the ' +\n",
              "          '<a target=\"_blank\" href=https://colab.research.google.com/notebooks/data_table.ipynb>data table notebook</a>'\n",
              "          + ' to learn more about interactive tables.';\n",
              "        element.innerHTML = '';\n",
              "        dataTable['output_type'] = 'display_data';\n",
              "        await google.colab.output.renderOutput(dataTable, element);\n",
              "        const docLink = document.createElement('div');\n",
              "        docLink.innerHTML = docLinkHtml;\n",
              "        element.appendChild(docLink);\n",
              "      }\n",
              "    </script>\n",
              "  </div>\n",
              "\n",
              "\n",
              "<div id=\"df-08f999ec-6df9-406d-a56d-3c1be08ed899\">\n",
              "  <button class=\"colab-df-quickchart\" onclick=\"quickchart('df-08f999ec-6df9-406d-a56d-3c1be08ed899')\"\n",
              "            title=\"Suggest charts\"\n",
              "            style=\"display:none;\">\n",
              "\n",
              "<svg xmlns=\"http://www.w3.org/2000/svg\" height=\"24px\"viewBox=\"0 0 24 24\"\n",
              "     width=\"24px\">\n",
              "    <g>\n",
              "        <path d=\"M19 3H5c-1.1 0-2 .9-2 2v14c0 1.1.9 2 2 2h14c1.1 0 2-.9 2-2V5c0-1.1-.9-2-2-2zM9 17H7v-7h2v7zm4 0h-2V7h2v10zm4 0h-2v-4h2v4z\"/>\n",
              "    </g>\n",
              "</svg>\n",
              "  </button>\n",
              "\n",
              "<style>\n",
              "  .colab-df-quickchart {\n",
              "      --bg-color: #E8F0FE;\n",
              "      --fill-color: #1967D2;\n",
              "      --hover-bg-color: #E2EBFA;\n",
              "      --hover-fill-color: #174EA6;\n",
              "      --disabled-fill-color: #AAA;\n",
              "      --disabled-bg-color: #DDD;\n",
              "  }\n",
              "\n",
              "  [theme=dark] .colab-df-quickchart {\n",
              "      --bg-color: #3B4455;\n",
              "      --fill-color: #D2E3FC;\n",
              "      --hover-bg-color: #434B5C;\n",
              "      --hover-fill-color: #FFFFFF;\n",
              "      --disabled-bg-color: #3B4455;\n",
              "      --disabled-fill-color: #666;\n",
              "  }\n",
              "\n",
              "  .colab-df-quickchart {\n",
              "    background-color: var(--bg-color);\n",
              "    border: none;\n",
              "    border-radius: 50%;\n",
              "    cursor: pointer;\n",
              "    display: none;\n",
              "    fill: var(--fill-color);\n",
              "    height: 32px;\n",
              "    padding: 0;\n",
              "    width: 32px;\n",
              "  }\n",
              "\n",
              "  .colab-df-quickchart:hover {\n",
              "    background-color: var(--hover-bg-color);\n",
              "    box-shadow: 0 1px 2px rgba(60, 64, 67, 0.3), 0 1px 3px 1px rgba(60, 64, 67, 0.15);\n",
              "    fill: var(--button-hover-fill-color);\n",
              "  }\n",
              "\n",
              "  .colab-df-quickchart-complete:disabled,\n",
              "  .colab-df-quickchart-complete:disabled:hover {\n",
              "    background-color: var(--disabled-bg-color);\n",
              "    fill: var(--disabled-fill-color);\n",
              "    box-shadow: none;\n",
              "  }\n",
              "\n",
              "  .colab-df-spinner {\n",
              "    border: 2px solid var(--fill-color);\n",
              "    border-color: transparent;\n",
              "    border-bottom-color: var(--fill-color);\n",
              "    animation:\n",
              "      spin 1s steps(1) infinite;\n",
              "  }\n",
              "\n",
              "  @keyframes spin {\n",
              "    0% {\n",
              "      border-color: transparent;\n",
              "      border-bottom-color: var(--fill-color);\n",
              "      border-left-color: var(--fill-color);\n",
              "    }\n",
              "    20% {\n",
              "      border-color: transparent;\n",
              "      border-left-color: var(--fill-color);\n",
              "      border-top-color: var(--fill-color);\n",
              "    }\n",
              "    30% {\n",
              "      border-color: transparent;\n",
              "      border-left-color: var(--fill-color);\n",
              "      border-top-color: var(--fill-color);\n",
              "      border-right-color: var(--fill-color);\n",
              "    }\n",
              "    40% {\n",
              "      border-color: transparent;\n",
              "      border-right-color: var(--fill-color);\n",
              "      border-top-color: var(--fill-color);\n",
              "    }\n",
              "    60% {\n",
              "      border-color: transparent;\n",
              "      border-right-color: var(--fill-color);\n",
              "    }\n",
              "    80% {\n",
              "      border-color: transparent;\n",
              "      border-right-color: var(--fill-color);\n",
              "      border-bottom-color: var(--fill-color);\n",
              "    }\n",
              "    90% {\n",
              "      border-color: transparent;\n",
              "      border-bottom-color: var(--fill-color);\n",
              "    }\n",
              "  }\n",
              "</style>\n",
              "\n",
              "  <script>\n",
              "    async function quickchart(key) {\n",
              "      const quickchartButtonEl =\n",
              "        document.querySelector('#' + key + ' button');\n",
              "      quickchartButtonEl.disabled = true;  // To prevent multiple clicks.\n",
              "      quickchartButtonEl.classList.add('colab-df-spinner');\n",
              "      try {\n",
              "        const charts = await google.colab.kernel.invokeFunction(\n",
              "            'suggestCharts', [key], {});\n",
              "      } catch (error) {\n",
              "        console.error('Error during call to suggestCharts:', error);\n",
              "      }\n",
              "      quickchartButtonEl.classList.remove('colab-df-spinner');\n",
              "      quickchartButtonEl.classList.add('colab-df-quickchart-complete');\n",
              "    }\n",
              "    (() => {\n",
              "      let quickchartButtonEl =\n",
              "        document.querySelector('#df-08f999ec-6df9-406d-a56d-3c1be08ed899 button');\n",
              "      quickchartButtonEl.style.display =\n",
              "        google.colab.kernel.accessAllowed ? 'block' : 'none';\n",
              "    })();\n",
              "  </script>\n",
              "</div>\n",
              "\n",
              "  <div id=\"id_faaf6a46-1274-4835-932e-fd214debf6c1\">\n",
              "    <style>\n",
              "      .colab-df-generate {\n",
              "        background-color: #E8F0FE;\n",
              "        border: none;\n",
              "        border-radius: 50%;\n",
              "        cursor: pointer;\n",
              "        display: none;\n",
              "        fill: #1967D2;\n",
              "        height: 32px;\n",
              "        padding: 0 0 0 0;\n",
              "        width: 32px;\n",
              "      }\n",
              "\n",
              "      .colab-df-generate:hover {\n",
              "        background-color: #E2EBFA;\n",
              "        box-shadow: 0px 1px 2px rgba(60, 64, 67, 0.3), 0px 1px 3px 1px rgba(60, 64, 67, 0.15);\n",
              "        fill: #174EA6;\n",
              "      }\n",
              "\n",
              "      [theme=dark] .colab-df-generate {\n",
              "        background-color: #3B4455;\n",
              "        fill: #D2E3FC;\n",
              "      }\n",
              "\n",
              "      [theme=dark] .colab-df-generate:hover {\n",
              "        background-color: #434B5C;\n",
              "        box-shadow: 0px 1px 3px 1px rgba(0, 0, 0, 0.15);\n",
              "        filter: drop-shadow(0px 1px 2px rgba(0, 0, 0, 0.3));\n",
              "        fill: #FFFFFF;\n",
              "      }\n",
              "    </style>\n",
              "    <button class=\"colab-df-generate\" onclick=\"generateWithVariable('new')\"\n",
              "            title=\"Generate code using this dataframe.\"\n",
              "            style=\"display:none;\">\n",
              "\n",
              "  <svg xmlns=\"http://www.w3.org/2000/svg\" height=\"24px\"viewBox=\"0 0 24 24\"\n",
              "       width=\"24px\">\n",
              "    <path d=\"M7,19H8.4L18.45,9,17,7.55,7,17.6ZM5,21V16.75L18.45,3.32a2,2,0,0,1,2.83,0l1.4,1.43a1.91,1.91,0,0,1,.58,1.4,1.91,1.91,0,0,1-.58,1.4L9.25,21ZM18.45,9,17,7.55Zm-12,3A5.31,5.31,0,0,0,4.9,8.1,5.31,5.31,0,0,0,1,6.5,5.31,5.31,0,0,0,4.9,4.9,5.31,5.31,0,0,0,6.5,1,5.31,5.31,0,0,0,8.1,4.9,5.31,5.31,0,0,0,12,6.5,5.46,5.46,0,0,0,6.5,12Z\"/>\n",
              "  </svg>\n",
              "    </button>\n",
              "    <script>\n",
              "      (() => {\n",
              "      const buttonEl =\n",
              "        document.querySelector('#id_faaf6a46-1274-4835-932e-fd214debf6c1 button.colab-df-generate');\n",
              "      buttonEl.style.display =\n",
              "        google.colab.kernel.accessAllowed ? 'block' : 'none';\n",
              "\n",
              "      buttonEl.onclick = () => {\n",
              "        google.colab.notebook.generateWithVariable('new');\n",
              "      }\n",
              "      })();\n",
              "    </script>\n",
              "  </div>\n",
              "\n",
              "    </div>\n",
              "  </div>\n"
            ],
            "application/vnd.google.colaboratory.intrinsic+json": {
              "type": "dataframe",
              "variable_name": "new",
              "summary": "{\n  \"name\": \"new\",\n  \"rows\": 18,\n  \"fields\": [\n    {\n      \"column\": \"gender\",\n      \"properties\": {\n        \"dtype\": \"category\",\n        \"num_unique_values\": 3,\n        \"samples\": [\n          \"Female\",\n          \"Male\",\n          \"Other\"\n        ],\n        \"semantic_type\": \"\",\n        \"description\": \"\"\n      }\n    },\n    {\n      \"column\": \"major\",\n      \"properties\": {\n        \"dtype\": \"category\",\n        \"num_unique_values\": 6,\n        \"samples\": [\n          \"Arts\",\n          \"Biology\",\n          \"Psychology\"\n        ],\n        \"semantic_type\": \"\",\n        \"description\": \"\"\n      }\n    },\n    {\n      \"column\": \"study_hours_per_day\",\n      \"properties\": {\n        \"dtype\": \"number\",\n        \"std\": 0.37062021511745413,\n        \"min\": 3.939491602360418,\n        \"max\": 4.9973713043094055,\n        \"num_unique_values\": 18,\n        \"samples\": [\n          4.006225511536787,\n          3.982663316582914,\n          4.011913439635535\n        ],\n        \"semantic_type\": \"\",\n        \"description\": \"\"\n      }\n    }\n  ]\n}"
            }
          },
          "metadata": {},
          "execution_count": 3
        }
      ]
    },
    {
      "cell_type": "markdown",
      "source": [
        "### **Basic Plot**"
      ],
      "metadata": {
        "id": "Y-0qA66317He"
      }
    },
    {
      "cell_type": "code",
      "source": [
        "import matplotlib.pyplot as plt\n",
        "new.plot()\n",
        "plt.show()"
      ],
      "metadata": {
        "colab": {
          "base_uri": "https://localhost:8080/",
          "height": 449
        },
        "id": "ipAtG4Bi2TVN",
        "outputId": "dcce5c83-70d9-40ba-85ae-b1262e52fad6"
      },
      "execution_count": null,
      "outputs": [
        {
          "output_type": "display_data",
          "data": {
            "text/plain": [
              "<Figure size 640x480 with 1 Axes>"
            ],
            "image/png": "[encoded data removed]"
          },
          "metadata": {}
        }
      ]
    },
    {
      "cell_type": "markdown",
      "source": [
        "### **Create a Series**"
      ],
      "metadata": {
        "id": "7ACI1bw12T2G"
      }
    },
    {
      "cell_type": "code",
      "source": [],
      "metadata": {
        "id": "58T9LlcK2YFV"
      },
      "execution_count": null,
      "outputs": []
    },
    {
      "cell_type": "markdown",
      "source": [
        "### **Creating a DataFrame**"
      ],
      "metadata": {
        "id": "uxgkSKty2YX1"
      }
    },
    {
      "cell_type": "code",
      "source": [],
      "metadata": {
        "id": "Y1pBU4RF2jNm"
      },
      "execution_count": null,
      "outputs": []
    },
    {
      "cell_type": "markdown",
      "source": [
        "# **Interview Prep**"
      ],
      "metadata": {
        "id": "zkEMvETodswW"
      }
    },
    {
      "cell_type": "markdown",
      "source": [
        "## Incremental loader\n",
        "\n",
        "##### **Problem:**\n",
        "In our blog analytics use case, most visit events come from a streaming broker in real time. But some of them are still being written to a transactional database by legacy producers.\n",
        "You need to create a dedicated data ingestion process to bring these legacy visits to the Bronze layer.\n",
        "\n",
        "##### **Solution:**\n",
        "###### **Step 1:**\n",
        "Ask the interviewer whether each **visit record is immutable**. If the answer is yes, proceed to Step 2. If No, proceed to step 5.\n",
        "\n",
        "###### **Step 2:**\n",
        "Suggest starting with an **initial load** to bring in **historical dataset** covering a defined time period. After that, implement an **incremental loader** to handle subsequent data loads.\n",
        "\n",
        "###### **Step 3:**\n",
        "Since each visit is immutable, **we don’t need to capture updates or changes**. Instead, we simply **append new records** to the dataset in the Bronze layer. We can use a column such as creation time, load time, or another delta column (which represents when the event was ingested in the legacy system). This column will act as a watermark for the incremental loads.\n",
        "\n",
        "###### **Step 4:**\n",
        "If the legacy system supports **time-based partitions**, the process becomes even more efficient. In that case, we can simply load **one partition at a time** after it has been fully populated. We could just set an hourly batch job where on each hour a new partition starts to load with the previous one marked as ready or completed for the use of the stakeholders.\n",
        "\n",
        "###### **Step 5:**\n",
        "For a simpler example, let’s say event records are regularly deleted. Instead of physically removing them called hard delete, we can implement a soft delete by adding a deleted flag column (e.g., is_deleted = true). This way, we retain all records in the Bronze layer or Enterprise layer, while excluding the deleted ones from flowing into the Silver or Presentation layers."
      ],
      "metadata": {
        "id": "Zmdq4vYOdzOG"
      }
    }
  ]
}